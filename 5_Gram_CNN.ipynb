{
  "nbformat": 4,
  "nbformat_minor": 0,
  "metadata": {
    "colab": {
      "provenance": [],
      "authorship_tag": "ABX9TyMcvmEiHSL8mCF5ij1GRkkB",
      "include_colab_link": true
    },
    "kernelspec": {
      "name": "python3",
      "display_name": "Python 3"
    },
    "language_info": {
      "name": "python"
    }
  },
  "cells": [
    {
      "cell_type": "markdown",
      "metadata": {
        "id": "view-in-github",
        "colab_type": "text"
      },
      "source": [
        "<a href=\"https://colab.research.google.com/github/brunoedcf/NLP_2022_1/blob/main/5_Gram_CNN.ipynb\" target=\"_parent\"><img src=\"https://colab.research.google.com/assets/colab-badge.svg\" alt=\"Open In Colab\"/></a>"
      ]
    },
    {
      "cell_type": "code",
      "source": [
        "!pip install pythainlp\n",
        "!pip install advertools\n",
        "!pip install -U gensim"
      ],
      "metadata": {
        "id": "LnCtMQgELO4g"
      },
      "execution_count": null,
      "outputs": []
    },
    {
      "cell_type": "markdown",
      "source": [
        "# ***Imports***"
      ],
      "metadata": {
        "id": "hTlJr9ojZbdg"
      }
    },
    {
      "cell_type": "code",
      "source": [
        "import pandas as pd\n",
        "import numpy as np\n",
        "import re\n",
        "import keras\n",
        "import pythainlp\n",
        "import advertools as adv\n",
        "import matplotlib.pyplot as plt\n",
        "\n",
        "from tensorflow.keras.preprocessing.text import Tokenizer\n",
        "from tensorflow.keras.preprocessing.sequence import pad_sequences\n",
        "from tensorflow.keras.optimizers import SGD\n",
        "\n",
        "from sklearn.model_selection import train_test_split\n",
        "from sklearn.metrics import classification_report\n",
        "from sklearn.metrics import ConfusionMatrixDisplay\n",
        "\n",
        "from keras.utils.np_utils import to_categorical\n",
        "from keras.models import Sequential\n",
        "from keras.layers import Dense, Conv1D, Embedding, GlobalMaxPooling1D, Activation, Dropout\n",
        "\n",
        "import nltk\n",
        "nltk.download('punkt')"
      ],
      "metadata": {
        "id": "i7J5tgYkBuBy"
      },
      "execution_count": null,
      "outputs": []
    },
    {
      "cell_type": "code",
      "source": [
        "data_path = 'https://raw.githubusercontent.com/brunoedcf/bert-base-multilingual-cased_Language_Classifier/main/dataset.csv'"
      ],
      "metadata": {
        "id": "v-tQRcTRBuxE"
      },
      "execution_count": 81,
      "outputs": []
    },
    {
      "cell_type": "code",
      "source": [
        "df = pd.read_csv(data_path)"
      ],
      "metadata": {
        "id": "PbGuCu2EBvkm"
      },
      "execution_count": 82,
      "outputs": []
    },
    {
      "cell_type": "code",
      "source": [
        "df"
      ],
      "metadata": {
        "colab": {
          "base_uri": "https://localhost:8080/",
          "height": 423
        },
        "id": "hThGjMXVBwSE",
        "outputId": "622acb47-bebe-4d20-8cb1-e7057124af05"
      },
      "execution_count": 83,
      "outputs": [
        {
          "output_type": "execute_result",
          "data": {
            "text/plain": [
              "                                                    Text  language\n",
              "0      klement gottwaldi surnukeha palsameeriti ning ...  Estonian\n",
              "1      sebes joseph pereira thomas  på eng the jesuit...   Swedish\n",
              "2      ถนนเจริญกรุง อักษรโรมัน thanon charoen krung เ...      Thai\n",
              "3      விசாகப்பட்டினம் தமிழ்ச்சங்கத்தை இந்துப் பத்திர...     Tamil\n",
              "4      de spons behoort tot het geslacht haliclona en...     Dutch\n",
              "...                                                  ...       ...\n",
              "21995  hors du terrain les années  et  sont des année...    French\n",
              "21996  ใน พศ  หลักจากที่เสด็จประพาสแหลมมลายู ชวา อินเ...      Thai\n",
              "21997  con motivo de la celebración del septuagésimoq...   Spanish\n",
              "21998  年月，當時還只有歲的她在美國出道，以mai-k名義推出首張英文《baby i like》，由...   Chinese\n",
              "21999   aprilie sonda spațială messenger a nasa și-a ...  Romanian\n",
              "\n",
              "[22000 rows x 2 columns]"
            ],
            "text/html": [
              "\n",
              "  <div id=\"df-18768c95-038e-4b06-90ec-5d3d4deb8112\">\n",
              "    <div class=\"colab-df-container\">\n",
              "      <div>\n",
              "<style scoped>\n",
              "    .dataframe tbody tr th:only-of-type {\n",
              "        vertical-align: middle;\n",
              "    }\n",
              "\n",
              "    .dataframe tbody tr th {\n",
              "        vertical-align: top;\n",
              "    }\n",
              "\n",
              "    .dataframe thead th {\n",
              "        text-align: right;\n",
              "    }\n",
              "</style>\n",
              "<table border=\"1\" class=\"dataframe\">\n",
              "  <thead>\n",
              "    <tr style=\"text-align: right;\">\n",
              "      <th></th>\n",
              "      <th>Text</th>\n",
              "      <th>language</th>\n",
              "    </tr>\n",
              "  </thead>\n",
              "  <tbody>\n",
              "    <tr>\n",
              "      <th>0</th>\n",
              "      <td>klement gottwaldi surnukeha palsameeriti ning ...</td>\n",
              "      <td>Estonian</td>\n",
              "    </tr>\n",
              "    <tr>\n",
              "      <th>1</th>\n",
              "      <td>sebes joseph pereira thomas  på eng the jesuit...</td>\n",
              "      <td>Swedish</td>\n",
              "    </tr>\n",
              "    <tr>\n",
              "      <th>2</th>\n",
              "      <td>ถนนเจริญกรุง อักษรโรมัน thanon charoen krung เ...</td>\n",
              "      <td>Thai</td>\n",
              "    </tr>\n",
              "    <tr>\n",
              "      <th>3</th>\n",
              "      <td>விசாகப்பட்டினம் தமிழ்ச்சங்கத்தை இந்துப் பத்திர...</td>\n",
              "      <td>Tamil</td>\n",
              "    </tr>\n",
              "    <tr>\n",
              "      <th>4</th>\n",
              "      <td>de spons behoort tot het geslacht haliclona en...</td>\n",
              "      <td>Dutch</td>\n",
              "    </tr>\n",
              "    <tr>\n",
              "      <th>...</th>\n",
              "      <td>...</td>\n",
              "      <td>...</td>\n",
              "    </tr>\n",
              "    <tr>\n",
              "      <th>21995</th>\n",
              "      <td>hors du terrain les années  et  sont des année...</td>\n",
              "      <td>French</td>\n",
              "    </tr>\n",
              "    <tr>\n",
              "      <th>21996</th>\n",
              "      <td>ใน พศ  หลักจากที่เสด็จประพาสแหลมมลายู ชวา อินเ...</td>\n",
              "      <td>Thai</td>\n",
              "    </tr>\n",
              "    <tr>\n",
              "      <th>21997</th>\n",
              "      <td>con motivo de la celebración del septuagésimoq...</td>\n",
              "      <td>Spanish</td>\n",
              "    </tr>\n",
              "    <tr>\n",
              "      <th>21998</th>\n",
              "      <td>年月，當時還只有歲的她在美國出道，以mai-k名義推出首張英文《baby i like》，由...</td>\n",
              "      <td>Chinese</td>\n",
              "    </tr>\n",
              "    <tr>\n",
              "      <th>21999</th>\n",
              "      <td>aprilie sonda spațială messenger a nasa și-a ...</td>\n",
              "      <td>Romanian</td>\n",
              "    </tr>\n",
              "  </tbody>\n",
              "</table>\n",
              "<p>22000 rows × 2 columns</p>\n",
              "</div>\n",
              "      <button class=\"colab-df-convert\" onclick=\"convertToInteractive('df-18768c95-038e-4b06-90ec-5d3d4deb8112')\"\n",
              "              title=\"Convert this dataframe to an interactive table.\"\n",
              "              style=\"display:none;\">\n",
              "        \n",
              "  <svg xmlns=\"http://www.w3.org/2000/svg\" height=\"24px\"viewBox=\"0 0 24 24\"\n",
              "       width=\"24px\">\n",
              "    <path d=\"M0 0h24v24H0V0z\" fill=\"none\"/>\n",
              "    <path d=\"M18.56 5.44l.94 2.06.94-2.06 2.06-.94-2.06-.94-.94-2.06-.94 2.06-2.06.94zm-11 1L8.5 8.5l.94-2.06 2.06-.94-2.06-.94L8.5 2.5l-.94 2.06-2.06.94zm10 10l.94 2.06.94-2.06 2.06-.94-2.06-.94-.94-2.06-.94 2.06-2.06.94z\"/><path d=\"M17.41 7.96l-1.37-1.37c-.4-.4-.92-.59-1.43-.59-.52 0-1.04.2-1.43.59L10.3 9.45l-7.72 7.72c-.78.78-.78 2.05 0 2.83L4 21.41c.39.39.9.59 1.41.59.51 0 1.02-.2 1.41-.59l7.78-7.78 2.81-2.81c.8-.78.8-2.07 0-2.86zM5.41 20L4 18.59l7.72-7.72 1.47 1.35L5.41 20z\"/>\n",
              "  </svg>\n",
              "      </button>\n",
              "      \n",
              "  <style>\n",
              "    .colab-df-container {\n",
              "      display:flex;\n",
              "      flex-wrap:wrap;\n",
              "      gap: 12px;\n",
              "    }\n",
              "\n",
              "    .colab-df-convert {\n",
              "      background-color: #E8F0FE;\n",
              "      border: none;\n",
              "      border-radius: 50%;\n",
              "      cursor: pointer;\n",
              "      display: none;\n",
              "      fill: #1967D2;\n",
              "      height: 32px;\n",
              "      padding: 0 0 0 0;\n",
              "      width: 32px;\n",
              "    }\n",
              "\n",
              "    .colab-df-convert:hover {\n",
              "      background-color: #E2EBFA;\n",
              "      box-shadow: 0px 1px 2px rgba(60, 64, 67, 0.3), 0px 1px 3px 1px rgba(60, 64, 67, 0.15);\n",
              "      fill: #174EA6;\n",
              "    }\n",
              "\n",
              "    [theme=dark] .colab-df-convert {\n",
              "      background-color: #3B4455;\n",
              "      fill: #D2E3FC;\n",
              "    }\n",
              "\n",
              "    [theme=dark] .colab-df-convert:hover {\n",
              "      background-color: #434B5C;\n",
              "      box-shadow: 0px 1px 3px 1px rgba(0, 0, 0, 0.15);\n",
              "      filter: drop-shadow(0px 1px 2px rgba(0, 0, 0, 0.3));\n",
              "      fill: #FFFFFF;\n",
              "    }\n",
              "  </style>\n",
              "\n",
              "      <script>\n",
              "        const buttonEl =\n",
              "          document.querySelector('#df-18768c95-038e-4b06-90ec-5d3d4deb8112 button.colab-df-convert');\n",
              "        buttonEl.style.display =\n",
              "          google.colab.kernel.accessAllowed ? 'block' : 'none';\n",
              "\n",
              "        async function convertToInteractive(key) {\n",
              "          const element = document.querySelector('#df-18768c95-038e-4b06-90ec-5d3d4deb8112');\n",
              "          const dataTable =\n",
              "            await google.colab.kernel.invokeFunction('convertToInteractive',\n",
              "                                                     [key], {});\n",
              "          if (!dataTable) return;\n",
              "\n",
              "          const docLinkHtml = 'Like what you see? Visit the ' +\n",
              "            '<a target=\"_blank\" href=https://colab.research.google.com/notebooks/data_table.ipynb>data table notebook</a>'\n",
              "            + ' to learn more about interactive tables.';\n",
              "          element.innerHTML = '';\n",
              "          dataTable['output_type'] = 'display_data';\n",
              "          await google.colab.output.renderOutput(dataTable, element);\n",
              "          const docLink = document.createElement('div');\n",
              "          docLink.innerHTML = docLinkHtml;\n",
              "          element.appendChild(docLink);\n",
              "        }\n",
              "      </script>\n",
              "    </div>\n",
              "  </div>\n",
              "  "
            ]
          },
          "metadata": {},
          "execution_count": 83
        }
      ]
    },
    {
      "cell_type": "code",
      "source": [
        "df['language'].value_counts()"
      ],
      "metadata": {
        "id": "JZByaEBjBxJK",
        "colab": {
          "base_uri": "https://localhost:8080/"
        },
        "outputId": "a0164b79-ef8e-4385-c15b-81d83b8a2560"
      },
      "execution_count": 84,
      "outputs": [
        {
          "output_type": "execute_result",
          "data": {
            "text/plain": [
              "Estonian      1000\n",
              "Swedish       1000\n",
              "English       1000\n",
              "Russian       1000\n",
              "Romanian      1000\n",
              "Persian       1000\n",
              "Pushto        1000\n",
              "Spanish       1000\n",
              "Hindi         1000\n",
              "Korean        1000\n",
              "Chinese       1000\n",
              "French        1000\n",
              "Portugese     1000\n",
              "Indonesian    1000\n",
              "Urdu          1000\n",
              "Latin         1000\n",
              "Turkish       1000\n",
              "Japanese      1000\n",
              "Dutch         1000\n",
              "Tamil         1000\n",
              "Thai          1000\n",
              "Arabic        1000\n",
              "Name: language, dtype: int64"
            ]
          },
          "metadata": {},
          "execution_count": 84
        }
      ]
    },
    {
      "cell_type": "code",
      "source": [
        "text = df['Text'].tolist()\n",
        "lang = df['language'].tolist()"
      ],
      "metadata": {
        "id": "2QpZpCoPLIrh"
      },
      "execution_count": 85,
      "outputs": []
    },
    {
      "cell_type": "markdown",
      "source": [
        "# ***Pre-Processing***"
      ],
      "metadata": {
        "id": "cAudETgYZKxZ"
      }
    },
    {
      "cell_type": "code",
      "source": [
        "def pre_process(text):\n",
        "  treated = re.sub(r'[\\/\\。\\・\\、\\，\\「\\」\\、\\-\\（\\）\\『\\』\\；\\：\\：\\－\\”\\·\\–\\~\\—\\«\\—]', ' ', text)\n",
        "  treated = re.sub(r'[\\[\\]\\,\\.\\\"\\'\\(\\)\\%\\:\\;\\<\\>\\?\\!\\+\\*\\&\\$\\#\\@\\《\\》\\—]', ' ', treated)\n",
        "  treated = re.sub(r'\\\\n', ' ', treated)\n",
        "  treated = re.sub(r'[0-9]', ' ', treated)\n",
        "  treated = re.sub(r'\\\\u200c', ' ', treated)\n",
        "  treated = re.sub(r'\\\\u200b', ' ', treated)\n",
        "  treated = re.sub(r'\\s+', ' ', treated)\n",
        "  treated = treated.lower()\n",
        "\n",
        "  return treated"
      ],
      "metadata": {
        "id": "MBgCIRQlBySb"
      },
      "execution_count": 86,
      "outputs": []
    },
    {
      "cell_type": "code",
      "source": [
        "text = [pre_process(t) for t in text]"
      ],
      "metadata": {
        "id": "nJw6OzFwLNC9"
      },
      "execution_count": 87,
      "outputs": []
    },
    {
      "cell_type": "code",
      "source": [
        "for i, row in enumerate(text):\n",
        "\n",
        "  if lang[i] == 'Thai':\n",
        "    for stopword in pythainlp.corpus.common.thai_stopwords():\n",
        "      if stopword in row:\n",
        "        text[i] = pre_process(re.sub(stopword, ' ', row).strip())\n",
        "\n",
        "  elif lang[i] == 'Japanese':\n",
        "    for stopword in adv.stopwords['japanese']:\n",
        "      if stopword in row:\n",
        "        text[i] = pre_process(re.sub(stopword, ' ', row).strip())\n",
        "\n",
        "  elif lang[i] == \"Chinese\":\n",
        "    for stopword in adv.stopwords['chinese']:\n",
        "      if stopword in row:\n",
        "        text[i] = pre_process(re.sub(stopword, ' ', row).strip())"
      ],
      "metadata": {
        "id": "YyVFzFODLRyS"
      },
      "execution_count": 88,
      "outputs": []
    },
    {
      "cell_type": "markdown",
      "source": [
        "# ***Create 5-Grams***"
      ],
      "metadata": {
        "id": "ZIQRO0rzZN6k"
      }
    },
    {
      "cell_type": "code",
      "source": [
        "def create_5gram(text):\n",
        "\n",
        "  if len(text) < 6:\n",
        "    text += '#####'\n",
        "\n",
        "  tokens = []\n",
        "  tokens.append('####' + text[0])\n",
        "  tokens.append('###' + text[0] + text[1])\n",
        "  tokens.append('##' + text[0] + text[1] + text[2])\n",
        "  tokens.append('#' + text[0] + text[1] + text[2] + text[3])\n",
        "  for i in range(0, len(text) - 4):\n",
        "    tokens.append(text[i:i+5])\n",
        "  \n",
        "  tokens.append( text[len(text)-4 : len(text)] + '#')\n",
        "  tokens.append( text[len(text)-3 : len(text)] + '##')\n",
        "  tokens.append( text[len(text)-2 : len(text)] + '###')\n",
        "  tokens.append(text[len(text)-1] + '####')\n",
        "\n",
        "  tokens = [re.sub(r'\\s','#', t) for t in tokens]\n",
        "\n",
        "  return tokens"
      ],
      "metadata": {
        "id": "Ko4EFBOMB0Rm"
      },
      "execution_count": 89,
      "outputs": []
    },
    {
      "cell_type": "code",
      "source": [
        "text_5gram = [create_5gram(t) for t in text]"
      ],
      "metadata": {
        "id": "OxvlxgnrLvPf"
      },
      "execution_count": 90,
      "outputs": []
    },
    {
      "cell_type": "code",
      "source": [
        "text[0][:5], text[0][len(text[0])-5: len(text[0])]"
      ],
      "metadata": {
        "colab": {
          "base_uri": "https://localhost:8080/"
        },
        "id": "-GVko4TIdPWX",
        "outputId": "3fd18307-18a1-4195-bc26-c49fdcdc80c8"
      },
      "execution_count": 91,
      "outputs": [
        {
          "output_type": "execute_result",
          "data": {
            "text/plain": [
              "('kleme', 'tvald')"
            ]
          },
          "metadata": {},
          "execution_count": 91
        }
      ]
    },
    {
      "cell_type": "code",
      "source": [
        "text_5gram[0][:5], text_5gram[0][len(text_5gram[0])-5: len(text_5gram[0])]"
      ],
      "metadata": {
        "colab": {
          "base_uri": "https://localhost:8080/"
        },
        "id": "YQX5Ae-fMT-c",
        "outputId": "6ca4d78e-a5e7-4f5e-b18a-c169202eea0a"
      },
      "execution_count": 92,
      "outputs": [
        {
          "output_type": "execute_result",
          "data": {
            "text/plain": [
              "(['####k', '###kl', '##kle', '#klem', 'kleme'],\n",
              " ['tvald', 'vald#', 'ald##', 'ld###', 'd####'])"
            ]
          },
          "metadata": {},
          "execution_count": 92
        }
      ]
    },
    {
      "cell_type": "markdown",
      "source": [
        "# ***Split in Training, Test and Validation***"
      ],
      "metadata": {
        "id": "6Bin1thMJEkw"
      }
    },
    {
      "cell_type": "code",
      "source": [
        "train_x, test_x, train_y, test_y = train_test_split(text_5gram, lang, test_size=0.33, random_state=42)\n",
        "test_x, valid_x, test_y, valid_y = train_test_split(test_x, test_y, test_size=0.33, random_state=42)"
      ],
      "metadata": {
        "id": "WnkL6VvYXSO6"
      },
      "execution_count": 93,
      "outputs": []
    },
    {
      "cell_type": "markdown",
      "source": [
        "# ***Labels to Categorical***"
      ],
      "metadata": {
        "id": "pcNi95pxJJUP"
      }
    },
    {
      "cell_type": "code",
      "source": [
        "df_train_y = pd.Categorical(train_y)\n",
        "df_train_y_int = df_train_y.codes\n",
        "train_y = to_categorical(df_train_y_int)\n",
        "\n",
        "df_test_y = pd.Categorical(test_y)\n",
        "df_test_y_int = df_test_y.codes\n",
        "test_y = to_categorical(df_test_y_int)\n",
        "\n",
        "df_valid_y = pd.Categorical(valid_y)\n",
        "df_valid_y_int = df_valid_y.codes\n",
        "valid_y = to_categorical(df_valid_y_int)"
      ],
      "metadata": {
        "id": "ldU57Dr7WU6d"
      },
      "execution_count": 94,
      "outputs": []
    },
    {
      "cell_type": "markdown",
      "source": [
        "# ***Count Vocabulary***"
      ],
      "metadata": {
        "id": "hgmK9alhJyjc"
      }
    },
    {
      "cell_type": "code",
      "source": [
        "vocab = {}\n",
        "for text in train_x:\n",
        "  for word in text:\n",
        "    if word not in vocab:\n",
        "      vocab[word] = 1"
      ],
      "metadata": {
        "id": "77KwmzjkZbxa"
      },
      "execution_count": 95,
      "outputs": []
    },
    {
      "cell_type": "code",
      "source": [
        "vocab_size = len(vocab)\n",
        "vocab_size"
      ],
      "metadata": {
        "colab": {
          "base_uri": "https://localhost:8080/"
        },
        "id": "hScf20svZ4KJ",
        "outputId": "c2cd2cf2-e037-48d0-ff48-8f8dc23323f1"
      },
      "execution_count": 96,
      "outputs": [
        {
          "output_type": "execute_result",
          "data": {
            "text/plain": [
              "1361798"
            ]
          },
          "metadata": {},
          "execution_count": 96
        }
      ]
    },
    {
      "cell_type": "markdown",
      "source": [
        "# ***Tokenizer***"
      ],
      "metadata": {
        "id": "hrr0u-qtIMIs"
      }
    },
    {
      "cell_type": "code",
      "source": [
        "tokenizer = Tokenizer(num_words = vocab_size)\n",
        "tokenizer.fit_on_texts(train_x)"
      ],
      "metadata": {
        "id": "ppsNNpvPJvbD"
      },
      "execution_count": 97,
      "outputs": []
    },
    {
      "cell_type": "code",
      "source": [
        "word_index = tokenizer.word_index"
      ],
      "metadata": {
        "id": "IVYa6XrwKUfs"
      },
      "execution_count": 98,
      "outputs": []
    },
    {
      "cell_type": "code",
      "source": [
        "vocab_size = len(word_index) + 1"
      ],
      "metadata": {
        "id": "zjUSIyPeKViu"
      },
      "execution_count": 99,
      "outputs": []
    },
    {
      "cell_type": "code",
      "source": [
        "train_sequences = tokenizer.texts_to_sequences(train_x)\n",
        "test_sequences = tokenizer.texts_to_sequences(test_x)\n",
        "valid_sequences = tokenizer.texts_to_sequences(valid_x)"
      ],
      "metadata": {
        "id": "3BaW2IDKKa5k"
      },
      "execution_count": 100,
      "outputs": []
    },
    {
      "cell_type": "code",
      "source": [
        "max_length = 64\n",
        "trunc_type = 'post'\n",
        "padding_type = 'post'\n",
        "n = 100"
      ],
      "metadata": {
        "id": "F-hLvVh-K4ao"
      },
      "execution_count": 101,
      "outputs": []
    },
    {
      "cell_type": "code",
      "source": [
        "train_padded = pad_sequences(train_sequences, maxlen=max_length, padding=padding_type, truncating=trunc_type)\n",
        "valid_padded = pad_sequences(valid_sequences, maxlen=max_length, padding=padding_type, truncating=trunc_type)\n",
        "test_padded = pad_sequences(test_sequences, maxlen=max_length, padding=padding_type, truncating=trunc_type)"
      ],
      "metadata": {
        "id": "33STI4HzLkb4"
      },
      "execution_count": 102,
      "outputs": []
    },
    {
      "cell_type": "markdown",
      "source": [
        "# ***Model***"
      ],
      "metadata": {
        "id": "80I4iUONIp8H"
      }
    },
    {
      "cell_type": "code",
      "source": [
        "model = Sequential()\n",
        "model.add(Embedding(vocab_size, output_dim = n, input_length=max_length))\n",
        "model.add(Conv1D(filters=128, kernel_size=6, strides=1))\n",
        "model.add(Activation('relu'))\n",
        "model.add(Dropout(0.5))\n",
        "model.add(GlobalMaxPooling1D())\n",
        "model.add(Dense(128))\n",
        "model.add(Activation('relu'))\n",
        "model.add(Dropout(0.3))\n",
        "model.add(Dense(64))\n",
        "model.add(Activation('relu'))\n",
        "model.add(Dropout(0.3))\n",
        "model.add(Dense(22, activation='softmax'))\n",
        "model.summary()"
      ],
      "metadata": {
        "id": "Tg0D6lcXYkaL",
        "colab": {
          "base_uri": "https://localhost:8080/"
        },
        "outputId": "f75ad90a-ba2e-42e9-a8c7-af3b66ea4c9c"
      },
      "execution_count": 107,
      "outputs": [
        {
          "output_type": "stream",
          "name": "stdout",
          "text": [
            "Model: \"sequential_7\"\n",
            "_________________________________________________________________\n",
            " Layer (type)                Output Shape              Param #   \n",
            "=================================================================\n",
            " embedding_7 (Embedding)     (None, 64, 100)           136179900 \n",
            "                                                                 \n",
            " conv1d_7 (Conv1D)           (None, 59, 128)           76928     \n",
            "                                                                 \n",
            " activation_21 (Activation)  (None, 59, 128)           0         \n",
            "                                                                 \n",
            " dropout_21 (Dropout)        (None, 59, 128)           0         \n",
            "                                                                 \n",
            " global_max_pooling1d_7 (Glo  (None, 128)              0         \n",
            " balMaxPooling1D)                                                \n",
            "                                                                 \n",
            " dense_21 (Dense)            (None, 128)               16512     \n",
            "                                                                 \n",
            " activation_22 (Activation)  (None, 128)               0         \n",
            "                                                                 \n",
            " dropout_22 (Dropout)        (None, 128)               0         \n",
            "                                                                 \n",
            " dense_22 (Dense)            (None, 64)                8256      \n",
            "                                                                 \n",
            " activation_23 (Activation)  (None, 64)                0         \n",
            "                                                                 \n",
            " dropout_23 (Dropout)        (None, 64)                0         \n",
            "                                                                 \n",
            " dense_23 (Dense)            (None, 22)                1430      \n",
            "                                                                 \n",
            "=================================================================\n",
            "Total params: 136,283,026\n",
            "Trainable params: 136,283,026\n",
            "Non-trainable params: 0\n",
            "_________________________________________________________________\n"
          ]
        }
      ]
    },
    {
      "cell_type": "code",
      "source": [
        "sgd = SGD(learning_rate=0.02)\n",
        "model.compile(loss=\"categorical_crossentropy\",optimizer=sgd,metrics=['accuracy'])\n",
        "history_fine = model.fit(train_padded, train_y,validation_data=(valid_padded, valid_y), epochs=50)"
      ],
      "metadata": {
        "id": "740fwu2SYlSm",
        "colab": {
          "base_uri": "https://localhost:8080/"
        },
        "outputId": "55ae4fc3-c10c-4243-e5ab-0828bff5b537"
      },
      "execution_count": 108,
      "outputs": [
        {
          "output_type": "stream",
          "name": "stdout",
          "text": [
            "Epoch 1/50\n",
            "461/461 [==============================] - 15s 32ms/step - loss: 3.0932 - accuracy: 0.0458 - val_loss: 3.0910 - val_accuracy: 0.0442\n",
            "Epoch 2/50\n",
            "461/461 [==============================] - 14s 31ms/step - loss: 3.0915 - accuracy: 0.0457 - val_loss: 3.0917 - val_accuracy: 0.0530\n",
            "Epoch 3/50\n",
            "461/461 [==============================] - 14s 31ms/step - loss: 3.0907 - accuracy: 0.0486 - val_loss: 3.0909 - val_accuracy: 0.0509\n",
            "Epoch 4/50\n",
            "461/461 [==============================] - 14s 31ms/step - loss: 3.0903 - accuracy: 0.0497 - val_loss: 3.0903 - val_accuracy: 0.0484\n",
            "Epoch 5/50\n",
            "461/461 [==============================] - 14s 31ms/step - loss: 3.0892 - accuracy: 0.0538 - val_loss: 3.0896 - val_accuracy: 0.0701\n",
            "Epoch 6/50\n",
            "461/461 [==============================] - 14s 31ms/step - loss: 3.0878 - accuracy: 0.0565 - val_loss: 3.0888 - val_accuracy: 0.0726\n",
            "Epoch 7/50\n",
            "461/461 [==============================] - 14s 31ms/step - loss: 3.0864 - accuracy: 0.0594 - val_loss: 3.0879 - val_accuracy: 0.0701\n",
            "Epoch 8/50\n",
            "461/461 [==============================] - 15s 33ms/step - loss: 3.0843 - accuracy: 0.0670 - val_loss: 3.0867 - val_accuracy: 0.0672\n",
            "Epoch 9/50\n",
            "461/461 [==============================] - 14s 31ms/step - loss: 3.0813 - accuracy: 0.0713 - val_loss: 3.0833 - val_accuracy: 0.0693\n",
            "Epoch 10/50\n",
            "461/461 [==============================] - 14s 31ms/step - loss: 3.0782 - accuracy: 0.0753 - val_loss: 3.0801 - val_accuracy: 0.0726\n",
            "Epoch 11/50\n",
            "461/461 [==============================] - 14s 31ms/step - loss: 3.0730 - accuracy: 0.0824 - val_loss: 3.0749 - val_accuracy: 0.0972\n",
            "Epoch 12/50\n",
            "461/461 [==============================] - 14s 31ms/step - loss: 3.0625 - accuracy: 0.0830 - val_loss: 3.0650 - val_accuracy: 0.1085\n",
            "Epoch 13/50\n",
            "461/461 [==============================] - 14s 31ms/step - loss: 3.0481 - accuracy: 0.0905 - val_loss: 3.0483 - val_accuracy: 0.1102\n",
            "Epoch 14/50\n",
            "461/461 [==============================] - 14s 31ms/step - loss: 3.0220 - accuracy: 0.0914 - val_loss: 3.0195 - val_accuracy: 0.1336\n",
            "Epoch 15/50\n",
            "461/461 [==============================] - 14s 31ms/step - loss: 2.9877 - accuracy: 0.1030 - val_loss: 2.9908 - val_accuracy: 0.1636\n",
            "Epoch 16/50\n",
            "461/461 [==============================] - 14s 31ms/step - loss: 2.9590 - accuracy: 0.1100 - val_loss: 2.9680 - val_accuracy: 0.1736\n",
            "Epoch 17/50\n",
            "461/461 [==============================] - 14s 31ms/step - loss: 2.9337 - accuracy: 0.1233 - val_loss: 2.9414 - val_accuracy: 0.1715\n",
            "Epoch 18/50\n",
            "461/461 [==============================] - 14s 31ms/step - loss: 2.8951 - accuracy: 0.1412 - val_loss: 2.9040 - val_accuracy: 0.2037\n",
            "Epoch 19/50\n",
            "461/461 [==============================] - 19s 41ms/step - loss: 2.8396 - accuracy: 0.1572 - val_loss: 2.8429 - val_accuracy: 0.2554\n",
            "Epoch 20/50\n",
            "461/461 [==============================] - 14s 31ms/step - loss: 2.7575 - accuracy: 0.1780 - val_loss: 2.7614 - val_accuracy: 0.2855\n",
            "Epoch 21/50\n",
            "461/461 [==============================] - 14s 31ms/step - loss: 2.6540 - accuracy: 0.2061 - val_loss: 2.6612 - val_accuracy: 0.3381\n",
            "Epoch 22/50\n",
            "461/461 [==============================] - 14s 31ms/step - loss: 2.5020 - accuracy: 0.2415 - val_loss: 2.4770 - val_accuracy: 0.3243\n",
            "Epoch 23/50\n",
            "461/461 [==============================] - 14s 31ms/step - loss: 2.3357 - accuracy: 0.2818 - val_loss: 2.3228 - val_accuracy: 0.3631\n",
            "Epoch 24/50\n",
            "461/461 [==============================] - 14s 31ms/step - loss: 2.1288 - accuracy: 0.3277 - val_loss: 2.1630 - val_accuracy: 0.3735\n",
            "Epoch 25/50\n",
            "461/461 [==============================] - 14s 31ms/step - loss: 1.9428 - accuracy: 0.3803 - val_loss: 1.9632 - val_accuracy: 0.4704\n",
            "Epoch 26/50\n",
            "461/461 [==============================] - 14s 31ms/step - loss: 1.7468 - accuracy: 0.4317 - val_loss: 1.7790 - val_accuracy: 0.5338\n",
            "Epoch 27/50\n",
            "461/461 [==============================] - 14s 31ms/step - loss: 1.5379 - accuracy: 0.4969 - val_loss: 1.7728 - val_accuracy: 0.5200\n",
            "Epoch 28/50\n",
            "461/461 [==============================] - 14s 31ms/step - loss: 1.3436 - accuracy: 0.5522 - val_loss: 1.4272 - val_accuracy: 0.6290\n",
            "Epoch 29/50\n",
            "461/461 [==============================] - 14s 31ms/step - loss: 1.1591 - accuracy: 0.6145 - val_loss: 1.3538 - val_accuracy: 0.6098\n",
            "Epoch 30/50\n",
            "461/461 [==============================] - 14s 31ms/step - loss: 0.9721 - accuracy: 0.6704 - val_loss: 1.2814 - val_accuracy: 0.6411\n",
            "Epoch 31/50\n",
            "461/461 [==============================] - 14s 31ms/step - loss: 0.8191 - accuracy: 0.7235 - val_loss: 1.0974 - val_accuracy: 0.7104\n",
            "Epoch 32/50\n",
            "461/461 [==============================] - 14s 31ms/step - loss: 0.6607 - accuracy: 0.7773 - val_loss: 0.9969 - val_accuracy: 0.7279\n",
            "Epoch 33/50\n",
            "461/461 [==============================] - 14s 31ms/step - loss: 0.5405 - accuracy: 0.8199 - val_loss: 1.0722 - val_accuracy: 0.7087\n",
            "Epoch 34/50\n",
            "461/461 [==============================] - 14s 31ms/step - loss: 0.4369 - accuracy: 0.8551 - val_loss: 0.9215 - val_accuracy: 0.7475\n",
            "Epoch 35/50\n",
            "461/461 [==============================] - 14s 31ms/step - loss: 0.3649 - accuracy: 0.8812 - val_loss: 0.9096 - val_accuracy: 0.7500\n",
            "Epoch 36/50\n",
            "461/461 [==============================] - 14s 31ms/step - loss: 0.3063 - accuracy: 0.8979 - val_loss: 0.8539 - val_accuracy: 0.7705\n",
            "Epoch 37/50\n",
            "461/461 [==============================] - 14s 31ms/step - loss: 0.2589 - accuracy: 0.9176 - val_loss: 0.8048 - val_accuracy: 0.7784\n",
            "Epoch 38/50\n",
            "461/461 [==============================] - 14s 31ms/step - loss: 0.2174 - accuracy: 0.9325 - val_loss: 0.8151 - val_accuracy: 0.7721\n",
            "Epoch 39/50\n",
            "461/461 [==============================] - 14s 31ms/step - loss: 0.1919 - accuracy: 0.9408 - val_loss: 0.8374 - val_accuracy: 0.7784\n",
            "Epoch 40/50\n",
            "461/461 [==============================] - 14s 31ms/step - loss: 0.1648 - accuracy: 0.9502 - val_loss: 0.7925 - val_accuracy: 0.7917\n",
            "Epoch 41/50\n",
            "461/461 [==============================] - 14s 31ms/step - loss: 0.1395 - accuracy: 0.9586 - val_loss: 0.7797 - val_accuracy: 0.7992\n",
            "Epoch 42/50\n",
            "461/461 [==============================] - 14s 31ms/step - loss: 0.1234 - accuracy: 0.9653 - val_loss: 0.7752 - val_accuracy: 0.8051\n",
            "Epoch 43/50\n",
            "461/461 [==============================] - 14s 31ms/step - loss: 0.1176 - accuracy: 0.9649 - val_loss: 0.7856 - val_accuracy: 0.8005\n",
            "Epoch 44/50\n",
            "461/461 [==============================] - 14s 31ms/step - loss: 0.1024 - accuracy: 0.9708 - val_loss: 0.7818 - val_accuracy: 0.8022\n",
            "Epoch 45/50\n",
            "461/461 [==============================] - 14s 31ms/step - loss: 0.0895 - accuracy: 0.9751 - val_loss: 0.8196 - val_accuracy: 0.7997\n",
            "Epoch 46/50\n",
            "461/461 [==============================] - 14s 31ms/step - loss: 0.0905 - accuracy: 0.9730 - val_loss: 0.7968 - val_accuracy: 0.8076\n",
            "Epoch 47/50\n",
            "461/461 [==============================] - 14s 31ms/step - loss: 0.0830 - accuracy: 0.9769 - val_loss: 0.8408 - val_accuracy: 0.7997\n",
            "Epoch 48/50\n",
            "461/461 [==============================] - 14s 31ms/step - loss: 0.0696 - accuracy: 0.9807 - val_loss: 0.8003 - val_accuracy: 0.8155\n",
            "Epoch 49/50\n",
            "461/461 [==============================] - 14s 31ms/step - loss: 0.0677 - accuracy: 0.9820 - val_loss: 0.7754 - val_accuracy: 0.8143\n",
            "Epoch 50/50\n",
            "461/461 [==============================] - 14s 31ms/step - loss: 0.0629 - accuracy: 0.9828 - val_loss: 0.7606 - val_accuracy: 0.8230\n"
          ]
        }
      ]
    },
    {
      "cell_type": "code",
      "source": [
        "target_names = pd.Categorical(lang).categories\n",
        "\n",
        "y_prob = model.predict(test_padded)\n",
        "y_pred = np.argmax(y_prob,axis=1)\n",
        "print(classification_report(df_test_y_int,y_pred, target_names=target_names))"
      ],
      "metadata": {
        "id": "eAw4M1iBUg99",
        "colab": {
          "base_uri": "https://localhost:8080/"
        },
        "outputId": "4df5b95d-268c-47ef-cdae-8e6764b0a2b7"
      },
      "execution_count": 109,
      "outputs": [
        {
          "output_type": "stream",
          "name": "stdout",
          "text": [
            "              precision    recall  f1-score   support\n",
            "\n",
            "      Arabic       1.00      0.79      0.88       240\n",
            "     Chinese       0.37      0.44      0.40       221\n",
            "       Dutch       0.98      0.86      0.92       209\n",
            "     English       0.88      0.83      0.85       212\n",
            "    Estonian       0.96      0.77      0.86       222\n",
            "      French       0.88      0.91      0.90       217\n",
            "       Hindi       1.00      0.88      0.94       239\n",
            "  Indonesian       0.97      0.87      0.92       212\n",
            "    Japanese       0.48      0.74      0.58       212\n",
            "      Korean       0.55      0.84      0.67       219\n",
            "       Latin       0.95      0.79      0.86       218\n",
            "     Persian       0.99      0.87      0.93       212\n",
            "   Portugese       0.86      0.91      0.88       211\n",
            "      Pushto       0.98      0.85      0.91       216\n",
            "    Romanian       0.93      0.87      0.90       232\n",
            "     Russian       0.71      0.89      0.79       237\n",
            "     Spanish       0.94      0.87      0.90       216\n",
            "     Swedish       0.99      0.94      0.96       203\n",
            "       Tamil       0.74      0.96      0.83       234\n",
            "        Thai       0.98      0.77      0.86       222\n",
            "     Turkish       0.82      0.74      0.78       220\n",
            "        Urdu       1.00      0.86      0.92       240\n",
            "\n",
            "    accuracy                           0.83      4864\n",
            "   macro avg       0.86      0.83      0.84      4864\n",
            "weighted avg       0.86      0.83      0.84      4864\n",
            "\n"
          ]
        }
      ]
    },
    {
      "cell_type": "code",
      "source": [
        "plt.plot(history_fine.history['loss'])\n",
        "plt.plot(history_fine.history['val_loss'])\n",
        "plt.title('model loss')\n",
        "plt.ylabel('loss')\n",
        "plt.xlabel('epoch')\n",
        "plt.legend(['training set','validation set'], loc='upper left')\n",
        "plt.show()\n",
        "plt.savefig('5_gram_CNN.eps', format='eps')"
      ],
      "metadata": {
        "colab": {
          "base_uri": "https://localhost:8080/",
          "height": 313
        },
        "id": "FLVf3m5x5ijK",
        "outputId": "7f194c59-98ee-4df5-b745-1059cdbf1b99"
      },
      "execution_count": 127,
      "outputs": [
        {
          "output_type": "display_data",
          "data": {
            "text/plain": [
              "<Figure size 432x288 with 1 Axes>"
            ],
            "image/png": "[encoded data removed]"
          },
          "metadata": {
            "needs_background": "light"
          }
        },
        {
          "output_type": "display_data",
          "data": {
            "text/plain": [
              "<Figure size 432x288 with 0 Axes>"
            ]
          },
          "metadata": {}
        }
      ]
    },
    {
      "cell_type": "code",
      "source": [
        "disp = ConfusionMatrixDisplay.from_predictions(df_test_y_int, y_pred)\n",
        "fig = disp.ax_.get_figure()  \n",
        "fig.set_figwidth(10) \n",
        "fig.set_figheight(10)\n",
        "plt.show()\n",
        "plt.savefig('confmatrix_5_gram_CNN.eps', format='eps')"
      ],
      "metadata": {
        "colab": {
          "base_uri": "https://localhost:8080/",
          "height": 602
        },
        "id": "lR7jj9069McY",
        "outputId": "f458a015-9c6b-4599-c261-11b4b44c8661"
      },
      "execution_count": 131,
      "outputs": [
        {
          "output_type": "display_data",
          "data": {
            "text/plain": [
              "<Figure size 720x720 with 2 Axes>"
            ],
            "image/png": "[encoded data removed]"
          },
          "metadata": {
            "needs_background": "light"
          }
        },
        {
          "output_type": "display_data",
          "data": {
            "text/plain": [
              "<Figure size 432x288 with 0 Axes>"
            ]
          },
          "metadata": {}
        }
      ]
    }
  ]
}