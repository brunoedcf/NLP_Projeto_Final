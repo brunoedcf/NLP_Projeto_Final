{
  "nbformat": 4,
  "nbformat_minor": 0,
  "metadata": {
    "colab": {
      "provenance": [],
      "collapsed_sections": [],
      "authorship_tag": "ABX9TyMnR//ZXfvQCm0RHrnHJzBE",
      "include_colab_link": true
    },
    "kernelspec": {
      "name": "python3",
      "display_name": "Python 3"
    },
    "language_info": {
      "name": "python"
    }
  },
  "cells": [
    {
      "cell_type": "markdown",
      "metadata": {
        "id": "view-in-github",
        "colab_type": "text"
      },
      "source": [
        "<a href=\"https://colab.research.google.com/github/brunoedcf/NLP_2022_1/blob/main/Word2Vec_CNN.ipynb\" target=\"_parent\"><img src=\"https://colab.research.google.com/assets/colab-badge.svg\" alt=\"Open In Colab\"/></a>"
      ]
    },
    {
      "cell_type": "code",
      "source": [
        "!pip install pythainlp\n",
        "!pip install advertools\n",
        "!pip install -U gensim"
      ],
      "metadata": {
        "id": "R4dkEpV4JVJr"
      },
      "execution_count": null,
      "outputs": []
    },
    {
      "cell_type": "markdown",
      "source": [
        "# ***Imports***"
      ],
      "metadata": {
        "id": "_U9XT37WICMK"
      }
    },
    {
      "cell_type": "code",
      "source": [
        "import pandas as pd\n",
        "import numpy as np\n",
        "import re\n",
        "import keras\n",
        "import pythainlp\n",
        "import advertools as adv\n",
        "import matplotlib.pyplot as plt\n",
        "\n",
        "\n",
        "from gensim.models import KeyedVectors\n",
        "from gensim.models import Word2Vec\n",
        "\n",
        "from tensorflow.keras.preprocessing.text import Tokenizer\n",
        "from tensorflow.keras.preprocessing.sequence import pad_sequences\n",
        "from tensorflow.keras.optimizers import SGD\n",
        "\n",
        "from sklearn.model_selection import train_test_split\n",
        "from sklearn.metrics import classification_report\n",
        "from sklearn.metrics import ConfusionMatrixDisplay\n",
        "\n",
        "from keras.utils.np_utils import to_categorical\n",
        "from keras.models import Sequential\n",
        "from keras.layers import Dense, Conv1D, Embedding, GlobalMaxPooling1D, Activation, Dropout\n",
        "\n",
        "import nltk\n",
        "nltk.download('punkt')"
      ],
      "metadata": {
        "id": "DTsVPAsdU4XV"
      },
      "execution_count": null,
      "outputs": []
    },
    {
      "cell_type": "code",
      "execution_count": 3,
      "metadata": {
        "id": "JWIg4Zx_UopL"
      },
      "outputs": [],
      "source": [
        "data_path = 'https://raw.githubusercontent.com/brunoedcf/bert-base-multilingual-cased_Language_Classifier/main/dataset.csv'"
      ]
    },
    {
      "cell_type": "code",
      "source": [
        "df = pd.read_csv(data_path)\n",
        "df"
      ],
      "metadata": {
        "colab": {
          "base_uri": "https://localhost:8080/",
          "height": 423
        },
        "id": "g6fxF2H3UzP1",
        "outputId": "549c47cd-138c-4a11-fa91-13fce658611c"
      },
      "execution_count": 4,
      "outputs": [
        {
          "output_type": "execute_result",
          "data": {
            "text/plain": [
              "                                                    Text  language\n",
              "0      klement gottwaldi surnukeha palsameeriti ning ...  Estonian\n",
              "1      sebes joseph pereira thomas  på eng the jesuit...   Swedish\n",
              "2      ถนนเจริญกรุง อักษรโรมัน thanon charoen krung เ...      Thai\n",
              "3      விசாகப்பட்டினம் தமிழ்ச்சங்கத்தை இந்துப் பத்திர...     Tamil\n",
              "4      de spons behoort tot het geslacht haliclona en...     Dutch\n",
              "...                                                  ...       ...\n",
              "21995  hors du terrain les années  et  sont des année...    French\n",
              "21996  ใน พศ  หลักจากที่เสด็จประพาสแหลมมลายู ชวา อินเ...      Thai\n",
              "21997  con motivo de la celebración del septuagésimoq...   Spanish\n",
              "21998  年月，當時還只有歲的她在美國出道，以mai-k名義推出首張英文《baby i like》，由...   Chinese\n",
              "21999   aprilie sonda spațială messenger a nasa și-a ...  Romanian\n",
              "\n",
              "[22000 rows x 2 columns]"
            ],
            "text/html": [
              "\n",
              "  <div id=\"df-1c0b3b90-0b28-4545-85ab-4217da42b61b\">\n",
              "    <div class=\"colab-df-container\">\n",
              "      <div>\n",
              "<style scoped>\n",
              "    .dataframe tbody tr th:only-of-type {\n",
              "        vertical-align: middle;\n",
              "    }\n",
              "\n",
              "    .dataframe tbody tr th {\n",
              "        vertical-align: top;\n",
              "    }\n",
              "\n",
              "    .dataframe thead th {\n",
              "        text-align: right;\n",
              "    }\n",
              "</style>\n",
              "<table border=\"1\" class=\"dataframe\">\n",
              "  <thead>\n",
              "    <tr style=\"text-align: right;\">\n",
              "      <th></th>\n",
              "      <th>Text</th>\n",
              "      <th>language</th>\n",
              "    </tr>\n",
              "  </thead>\n",
              "  <tbody>\n",
              "    <tr>\n",
              "      <th>0</th>\n",
              "      <td>klement gottwaldi surnukeha palsameeriti ning ...</td>\n",
              "      <td>Estonian</td>\n",
              "    </tr>\n",
              "    <tr>\n",
              "      <th>1</th>\n",
              "      <td>sebes joseph pereira thomas  på eng the jesuit...</td>\n",
              "      <td>Swedish</td>\n",
              "    </tr>\n",
              "    <tr>\n",
              "      <th>2</th>\n",
              "      <td>ถนนเจริญกรุง อักษรโรมัน thanon charoen krung เ...</td>\n",
              "      <td>Thai</td>\n",
              "    </tr>\n",
              "    <tr>\n",
              "      <th>3</th>\n",
              "      <td>விசாகப்பட்டினம் தமிழ்ச்சங்கத்தை இந்துப் பத்திர...</td>\n",
              "      <td>Tamil</td>\n",
              "    </tr>\n",
              "    <tr>\n",
              "      <th>4</th>\n",
              "      <td>de spons behoort tot het geslacht haliclona en...</td>\n",
              "      <td>Dutch</td>\n",
              "    </tr>\n",
              "    <tr>\n",
              "      <th>...</th>\n",
              "      <td>...</td>\n",
              "      <td>...</td>\n",
              "    </tr>\n",
              "    <tr>\n",
              "      <th>21995</th>\n",
              "      <td>hors du terrain les années  et  sont des année...</td>\n",
              "      <td>French</td>\n",
              "    </tr>\n",
              "    <tr>\n",
              "      <th>21996</th>\n",
              "      <td>ใน พศ  หลักจากที่เสด็จประพาสแหลมมลายู ชวา อินเ...</td>\n",
              "      <td>Thai</td>\n",
              "    </tr>\n",
              "    <tr>\n",
              "      <th>21997</th>\n",
              "      <td>con motivo de la celebración del septuagésimoq...</td>\n",
              "      <td>Spanish</td>\n",
              "    </tr>\n",
              "    <tr>\n",
              "      <th>21998</th>\n",
              "      <td>年月，當時還只有歲的她在美國出道，以mai-k名義推出首張英文《baby i like》，由...</td>\n",
              "      <td>Chinese</td>\n",
              "    </tr>\n",
              "    <tr>\n",
              "      <th>21999</th>\n",
              "      <td>aprilie sonda spațială messenger a nasa și-a ...</td>\n",
              "      <td>Romanian</td>\n",
              "    </tr>\n",
              "  </tbody>\n",
              "</table>\n",
              "<p>22000 rows × 2 columns</p>\n",
              "</div>\n",
              "      <button class=\"colab-df-convert\" onclick=\"convertToInteractive('df-1c0b3b90-0b28-4545-85ab-4217da42b61b')\"\n",
              "              title=\"Convert this dataframe to an interactive table.\"\n",
              "              style=\"display:none;\">\n",
              "        \n",
              "  <svg xmlns=\"http://www.w3.org/2000/svg\" height=\"24px\"viewBox=\"0 0 24 24\"\n",
              "       width=\"24px\">\n",
              "    <path d=\"M0 0h24v24H0V0z\" fill=\"none\"/>\n",
              "    <path d=\"M18.56 5.44l.94 2.06.94-2.06 2.06-.94-2.06-.94-.94-2.06-.94 2.06-2.06.94zm-11 1L8.5 8.5l.94-2.06 2.06-.94-2.06-.94L8.5 2.5l-.94 2.06-2.06.94zm10 10l.94 2.06.94-2.06 2.06-.94-2.06-.94-.94-2.06-.94 2.06-2.06.94z\"/><path d=\"M17.41 7.96l-1.37-1.37c-.4-.4-.92-.59-1.43-.59-.52 0-1.04.2-1.43.59L10.3 9.45l-7.72 7.72c-.78.78-.78 2.05 0 2.83L4 21.41c.39.39.9.59 1.41.59.51 0 1.02-.2 1.41-.59l7.78-7.78 2.81-2.81c.8-.78.8-2.07 0-2.86zM5.41 20L4 18.59l7.72-7.72 1.47 1.35L5.41 20z\"/>\n",
              "  </svg>\n",
              "      </button>\n",
              "      \n",
              "  <style>\n",
              "    .colab-df-container {\n",
              "      display:flex;\n",
              "      flex-wrap:wrap;\n",
              "      gap: 12px;\n",
              "    }\n",
              "\n",
              "    .colab-df-convert {\n",
              "      background-color: #E8F0FE;\n",
              "      border: none;\n",
              "      border-radius: 50%;\n",
              "      cursor: pointer;\n",
              "      display: none;\n",
              "      fill: #1967D2;\n",
              "      height: 32px;\n",
              "      padding: 0 0 0 0;\n",
              "      width: 32px;\n",
              "    }\n",
              "\n",
              "    .colab-df-convert:hover {\n",
              "      background-color: #E2EBFA;\n",
              "      box-shadow: 0px 1px 2px rgba(60, 64, 67, 0.3), 0px 1px 3px 1px rgba(60, 64, 67, 0.15);\n",
              "      fill: #174EA6;\n",
              "    }\n",
              "\n",
              "    [theme=dark] .colab-df-convert {\n",
              "      background-color: #3B4455;\n",
              "      fill: #D2E3FC;\n",
              "    }\n",
              "\n",
              "    [theme=dark] .colab-df-convert:hover {\n",
              "      background-color: #434B5C;\n",
              "      box-shadow: 0px 1px 3px 1px rgba(0, 0, 0, 0.15);\n",
              "      filter: drop-shadow(0px 1px 2px rgba(0, 0, 0, 0.3));\n",
              "      fill: #FFFFFF;\n",
              "    }\n",
              "  </style>\n",
              "\n",
              "      <script>\n",
              "        const buttonEl =\n",
              "          document.querySelector('#df-1c0b3b90-0b28-4545-85ab-4217da42b61b button.colab-df-convert');\n",
              "        buttonEl.style.display =\n",
              "          google.colab.kernel.accessAllowed ? 'block' : 'none';\n",
              "\n",
              "        async function convertToInteractive(key) {\n",
              "          const element = document.querySelector('#df-1c0b3b90-0b28-4545-85ab-4217da42b61b');\n",
              "          const dataTable =\n",
              "            await google.colab.kernel.invokeFunction('convertToInteractive',\n",
              "                                                     [key], {});\n",
              "          if (!dataTable) return;\n",
              "\n",
              "          const docLinkHtml = 'Like what you see? Visit the ' +\n",
              "            '<a target=\"_blank\" href=https://colab.research.google.com/notebooks/data_table.ipynb>data table notebook</a>'\n",
              "            + ' to learn more about interactive tables.';\n",
              "          element.innerHTML = '';\n",
              "          dataTable['output_type'] = 'display_data';\n",
              "          await google.colab.output.renderOutput(dataTable, element);\n",
              "          const docLink = document.createElement('div');\n",
              "          docLink.innerHTML = docLinkHtml;\n",
              "          element.appendChild(docLink);\n",
              "        }\n",
              "      </script>\n",
              "    </div>\n",
              "  </div>\n",
              "  "
            ]
          },
          "metadata": {},
          "execution_count": 4
        }
      ]
    },
    {
      "cell_type": "code",
      "source": [
        "text = df['Text'].tolist()\n",
        "lang = df['language'].tolist()"
      ],
      "metadata": {
        "id": "2HAuNSlEE5lH"
      },
      "execution_count": 5,
      "outputs": []
    },
    {
      "cell_type": "markdown",
      "source": [
        "# ***Pre-Processing***"
      ],
      "metadata": {
        "id": "m_AkJjOZI1gJ"
      }
    },
    {
      "cell_type": "code",
      "source": [
        "def pre_process(text):\n",
        "  treated = re.sub(r'[\\/\\。\\・\\、\\，\\「\\」\\、\\-\\（\\）\\『\\』\\；\\：\\：\\－\\”\\·\\–\\~\\—\\«\\—]', ' ', text)\n",
        "  treated = re.sub(r'[\\[\\]\\,\\.\\\"\\'\\(\\)\\%\\:\\;\\<\\>\\?\\!\\+\\*\\&\\$\\#\\@\\《\\》\\—]', ' ', treated)\n",
        "  treated = re.sub(r'\\\\n', ' ', treated)\n",
        "  treated = re.sub(r'[0-9]', ' ', treated)\n",
        "  treated = re.sub(r'\\\\u200c', ' ', treated)\n",
        "  treated = re.sub(r'\\\\u200b', ' ', treated)\n",
        "  treated = re.sub(r'\\s+', ' ', treated)\n",
        "  treated = treated.lower()\n",
        "\n",
        "  return treated"
      ],
      "metadata": {
        "id": "7bljZFTeU0iI"
      },
      "execution_count": 6,
      "outputs": []
    },
    {
      "cell_type": "code",
      "source": [
        "text = [pre_process(t) for t in text]"
      ],
      "metadata": {
        "id": "r9rqIWpIFEa2"
      },
      "execution_count": 7,
      "outputs": []
    },
    {
      "cell_type": "code",
      "source": [
        "for i, row in enumerate(text):\n",
        "\n",
        "  if lang[i] == 'Thai':\n",
        "    for stopword in pythainlp.corpus.common.thai_stopwords():\n",
        "      if stopword in row:\n",
        "        text[i] = pre_process(re.sub(stopword, ' ', row).strip())\n",
        "\n",
        "  elif lang[i] == 'Japanese':\n",
        "    for stopword in adv.stopwords['japanese']:\n",
        "      if stopword in row:\n",
        "        text[i] = pre_process(re.sub(stopword, ' ', row).strip())\n",
        "\n",
        "  elif lang[i] == \"Chinese\":\n",
        "    for stopword in adv.stopwords['chinese']:\n",
        "      if stopword in row:\n",
        "        text[i] = pre_process(re.sub(stopword, ' ', row).strip())"
      ],
      "metadata": {
        "id": "EW6_eVBTNKWh"
      },
      "execution_count": 8,
      "outputs": []
    },
    {
      "cell_type": "markdown",
      "source": [
        "# ***Split in Training, Test and Validation***"
      ],
      "metadata": {
        "id": "6Bin1thMJEkw"
      }
    },
    {
      "cell_type": "code",
      "source": [
        "train_x, test_x, train_y, test_y = train_test_split(text, lang, test_size=0.33, random_state=42)\n",
        "test_x, valid_x, test_y, valid_y = train_test_split(test_x, test_y, test_size=0.33, random_state=42)"
      ],
      "metadata": {
        "id": "WnkL6VvYXSO6"
      },
      "execution_count": 9,
      "outputs": []
    },
    {
      "cell_type": "markdown",
      "source": [
        "# ***Labels to Categorical***"
      ],
      "metadata": {
        "id": "pcNi95pxJJUP"
      }
    },
    {
      "cell_type": "code",
      "source": [
        "df_train_y = pd.Categorical(train_y)\n",
        "df_train_y_int = df_train_y.codes\n",
        "train_y = to_categorical(df_train_y_int)\n",
        "\n",
        "df_test_y = pd.Categorical(test_y)\n",
        "df_test_y_int = df_test_y.codes\n",
        "test_y = to_categorical(df_test_y_int)\n",
        "\n",
        "df_valid_y = pd.Categorical(valid_y)\n",
        "df_valid_y_int = df_valid_y.codes\n",
        "valid_y = to_categorical(df_valid_y_int)"
      ],
      "metadata": {
        "id": "ldU57Dr7WU6d"
      },
      "execution_count": 10,
      "outputs": []
    },
    {
      "cell_type": "markdown",
      "source": [
        "# ***Count Vocabulary***"
      ],
      "metadata": {
        "id": "hgmK9alhJyjc"
      }
    },
    {
      "cell_type": "code",
      "source": [
        "vocab = {}\n",
        "for text in train_x:\n",
        "  for word in text.split():\n",
        "    if word not in vocab:\n",
        "      vocab[word] = 1"
      ],
      "metadata": {
        "id": "77KwmzjkZbxa"
      },
      "execution_count": 11,
      "outputs": []
    },
    {
      "cell_type": "code",
      "source": [
        "vocab_size = len(vocab)\n",
        "vocab_size"
      ],
      "metadata": {
        "colab": {
          "base_uri": "https://localhost:8080/"
        },
        "id": "hScf20svZ4KJ",
        "outputId": "7712f132-b8de-4f6d-c33a-42da1075f43f"
      },
      "execution_count": 12,
      "outputs": [
        {
          "output_type": "execute_result",
          "data": {
            "text/plain": [
              "228705"
            ]
          },
          "metadata": {},
          "execution_count": 12
        }
      ]
    },
    {
      "cell_type": "markdown",
      "source": [
        "# ***Tokenizer***"
      ],
      "metadata": {
        "id": "hrr0u-qtIMIs"
      }
    },
    {
      "cell_type": "code",
      "source": [
        "tokenizer = Tokenizer(num_words = vocab_size)\n",
        "tokenizer.fit_on_texts(train_x)"
      ],
      "metadata": {
        "id": "ppsNNpvPJvbD"
      },
      "execution_count": 13,
      "outputs": []
    },
    {
      "cell_type": "code",
      "source": [
        "word_index = tokenizer.word_index"
      ],
      "metadata": {
        "id": "IVYa6XrwKUfs"
      },
      "execution_count": 14,
      "outputs": []
    },
    {
      "cell_type": "code",
      "source": [
        "vocab_size = len(word_index) + 1"
      ],
      "metadata": {
        "id": "zjUSIyPeKViu"
      },
      "execution_count": 15,
      "outputs": []
    },
    {
      "cell_type": "code",
      "source": [
        "train_sequences = tokenizer.texts_to_sequences(train_x)\n",
        "test_sequences = tokenizer.texts_to_sequences(test_x)\n",
        "valid_sequences = tokenizer.texts_to_sequences(valid_x)"
      ],
      "metadata": {
        "id": "3BaW2IDKKa5k"
      },
      "execution_count": 16,
      "outputs": []
    },
    {
      "cell_type": "code",
      "source": [
        "max_length = 64\n",
        "trunc_type = 'post'\n",
        "padding_type = 'post'"
      ],
      "metadata": {
        "id": "F-hLvVh-K4ao"
      },
      "execution_count": 17,
      "outputs": []
    },
    {
      "cell_type": "code",
      "source": [
        "train_padded = pad_sequences(train_sequences, maxlen=max_length, padding=padding_type, truncating=trunc_type)\n",
        "valid_padded = pad_sequences(valid_sequences, maxlen=max_length, padding=padding_type, truncating=trunc_type)\n",
        "test_padded = pad_sequences(test_sequences, maxlen=max_length, padding=padding_type, truncating=trunc_type)"
      ],
      "metadata": {
        "id": "33STI4HzLkb4"
      },
      "execution_count": 18,
      "outputs": []
    },
    {
      "cell_type": "markdown",
      "source": [
        "# ***Transformar os dados df_train_x, df_test_x e df_valid_x em um embedding do Word2Vec antes de treinar***"
      ],
      "metadata": {
        "id": "w5rqFNjRYpIw"
      }
    },
    {
      "cell_type": "markdown",
      "source": [
        "# ***Treinando o Embedding Word2Vec***"
      ],
      "metadata": {
        "id": "gbNJptmxLd4y"
      }
    },
    {
      "cell_type": "code",
      "source": [
        "sentences = [sent.split() for sent in train_x]"
      ],
      "metadata": {
        "id": "z8viSArjNwsP"
      },
      "execution_count": 19,
      "outputs": []
    },
    {
      "cell_type": "code",
      "source": [
        "model_word2vec = Word2Vec(sentences, vector_size=100, min_count=1, window=6, sg=1,workers=4)"
      ],
      "metadata": {
        "id": "JJ4fQqJk3qPJ"
      },
      "execution_count": null,
      "outputs": []
    },
    {
      "cell_type": "code",
      "source": [
        "model_word2vec.wv.most_similar('parar')"
      ],
      "metadata": {
        "colab": {
          "base_uri": "https://localhost:8080/"
        },
        "id": "iQMgW5mlNXB3",
        "outputId": "d1c167f4-c52d-43c3-f46d-aa79f9feca0a"
      },
      "execution_count": 23,
      "outputs": [
        {
          "output_type": "execute_result",
          "data": {
            "text/plain": [
              "[('bizantina', 0.9900647401809692),\n",
              " ('lácio', 0.9893724918365479),\n",
              " ('pai', 0.9886687994003296),\n",
              " ('padrões', 0.9886593818664551),\n",
              " ('bloco', 0.9884536862373352),\n",
              " ('beja', 0.9883956909179688),\n",
              " ('setúbal', 0.9882718324661255),\n",
              " ('escreveu', 0.9882026314735413),\n",
              " ('júnior', 0.9880039095878601),\n",
              " ('heráldicos', 0.9877657294273376)]"
            ]
          },
          "metadata": {},
          "execution_count": 23
        }
      ]
    },
    {
      "cell_type": "markdown",
      "source": [
        "# ***Criando a Matriz de Embedding***"
      ],
      "metadata": {
        "id": "GWEkkK6BIf0q"
      }
    },
    {
      "cell_type": "code",
      "source": [
        "embedding_matrix = np.zeros((vocab_size, 100))\n",
        "for word, i in tokenizer.word_index.items():\n",
        "    if word in model_word2vec.wv:\n",
        "      embedding_matrix[i] = model_word2vec.wv.get_vector(word)\n",
        "    else:\n",
        "      embedding_matrix[i]=np.random.normal(0,np.sqrt(0.25), 100)"
      ],
      "metadata": {
        "id": "37skHupzRlaF"
      },
      "execution_count": 24,
      "outputs": []
    },
    {
      "cell_type": "code",
      "source": [
        "embedding_dim = len(model_word2vec.wv[0])\n",
        "embedding_dim"
      ],
      "metadata": {
        "colab": {
          "base_uri": "https://localhost:8080/"
        },
        "id": "e-RrzSUA_TTU",
        "outputId": "e2487802-8e55-4544-deab-52f62631f8f6"
      },
      "execution_count": 25,
      "outputs": [
        {
          "output_type": "execute_result",
          "data": {
            "text/plain": [
              "100"
            ]
          },
          "metadata": {},
          "execution_count": 25
        }
      ]
    },
    {
      "cell_type": "markdown",
      "source": [
        "# ***Criando a Camada de Embedding***"
      ],
      "metadata": {
        "id": "3wPvgGvLImUw"
      }
    },
    {
      "cell_type": "code",
      "source": [
        "embedding_layer = Embedding(input_dim = vocab_size,\n",
        "                            output_dim = embedding_dim,\n",
        "                            weights = [embedding_matrix],\n",
        "                            input_length=64,\n",
        "                            trainable=False)"
      ],
      "metadata": {
        "id": "8tjoCOpZA6UJ"
      },
      "execution_count": 26,
      "outputs": []
    },
    {
      "cell_type": "markdown",
      "source": [
        "# ***Modelo***"
      ],
      "metadata": {
        "id": "80I4iUONIp8H"
      }
    },
    {
      "cell_type": "code",
      "source": [
        "model = Sequential()\n",
        "model.add(embedding_layer)\n",
        "model.add(Conv1D(filters=128, kernel_size=6, strides=1))\n",
        "model.add(Activation('relu'))\n",
        "model.add(Dropout(0.5))\n",
        "model.add(GlobalMaxPooling1D())\n",
        "model.add(Dense(128))\n",
        "model.add(Activation('relu'))\n",
        "model.add(Dropout(0.3))\n",
        "model.add(Dense(64))\n",
        "model.add(Activation('relu'))\n",
        "model.add(Dropout(0.3))\n",
        "model.add(Dense(22, activation='softmax'))\n",
        "model.summary()"
      ],
      "metadata": {
        "id": "Tg0D6lcXYkaL",
        "colab": {
          "base_uri": "https://localhost:8080/"
        },
        "outputId": "8e9568c4-5eae-4b88-b9e2-29fc18ac0dc1"
      },
      "execution_count": 27,
      "outputs": [
        {
          "output_type": "stream",
          "name": "stdout",
          "text": [
            "Model: \"sequential\"\n",
            "_________________________________________________________________\n",
            " Layer (type)                Output Shape              Param #   \n",
            "=================================================================\n",
            " embedding (Embedding)       (None, 64, 100)           22868400  \n",
            "                                                                 \n",
            " conv1d (Conv1D)             (None, 59, 128)           76928     \n",
            "                                                                 \n",
            " activation (Activation)     (None, 59, 128)           0         \n",
            "                                                                 \n",
            " dropout (Dropout)           (None, 59, 128)           0         \n",
            "                                                                 \n",
            " global_max_pooling1d (Globa  (None, 128)              0         \n",
            " lMaxPooling1D)                                                  \n",
            "                                                                 \n",
            " dense (Dense)               (None, 128)               16512     \n",
            "                                                                 \n",
            " activation_1 (Activation)   (None, 128)               0         \n",
            "                                                                 \n",
            " dropout_1 (Dropout)         (None, 128)               0         \n",
            "                                                                 \n",
            " dense_1 (Dense)             (None, 64)                8256      \n",
            "                                                                 \n",
            " activation_2 (Activation)   (None, 64)                0         \n",
            "                                                                 \n",
            " dropout_2 (Dropout)         (None, 64)                0         \n",
            "                                                                 \n",
            " dense_2 (Dense)             (None, 22)                1430      \n",
            "                                                                 \n",
            "=================================================================\n",
            "Total params: 22,971,526\n",
            "Trainable params: 103,126\n",
            "Non-trainable params: 22,868,400\n",
            "_________________________________________________________________\n"
          ]
        }
      ]
    },
    {
      "cell_type": "code",
      "source": [
        "sgd = SGD(learning_rate=0.02)\n",
        "model.compile(loss=\"categorical_crossentropy\",optimizer=sgd,metrics=['accuracy'])\n",
        "history_fine = model.fit(train_padded, train_y,validation_data=(valid_padded, valid_y), epochs=50)"
      ],
      "metadata": {
        "id": "740fwu2SYlSm",
        "colab": {
          "base_uri": "https://localhost:8080/"
        },
        "outputId": "85c8f4ec-ae43-43e3-8470-8047d67e5ee6"
      },
      "execution_count": 28,
      "outputs": [
        {
          "output_type": "stream",
          "name": "stdout",
          "text": [
            "Epoch 1/50\n",
            "461/461 [==============================] - 19s 39ms/step - loss: 1.1096 - accuracy: 0.7018 - val_loss: 0.5858 - val_accuracy: 0.8873\n",
            "Epoch 2/50\n",
            "461/461 [==============================] - 16s 35ms/step - loss: 0.4768 - accuracy: 0.8656 - val_loss: 0.3922 - val_accuracy: 0.9065\n",
            "Epoch 3/50\n",
            "461/461 [==============================] - 28s 61ms/step - loss: 0.3548 - accuracy: 0.8878 - val_loss: 0.3303 - val_accuracy: 0.9124\n",
            "Epoch 4/50\n",
            "461/461 [==============================] - 15s 33ms/step - loss: 0.3184 - accuracy: 0.8990 - val_loss: 0.3165 - val_accuracy: 0.9094\n",
            "Epoch 5/50\n",
            "461/461 [==============================] - 14s 30ms/step - loss: 0.2864 - accuracy: 0.9041 - val_loss: 0.2863 - val_accuracy: 0.9115\n",
            "Epoch 6/50\n",
            "461/461 [==============================] - 14s 30ms/step - loss: 0.2751 - accuracy: 0.9060 - val_loss: 0.2714 - val_accuracy: 0.9144\n",
            "Epoch 7/50\n",
            "461/461 [==============================] - 14s 30ms/step - loss: 0.2613 - accuracy: 0.9117 - val_loss: 0.2634 - val_accuracy: 0.9119\n",
            "Epoch 8/50\n",
            "461/461 [==============================] - 13s 29ms/step - loss: 0.2534 - accuracy: 0.9128 - val_loss: 0.2563 - val_accuracy: 0.9098\n",
            "Epoch 9/50\n",
            "461/461 [==============================] - 13s 29ms/step - loss: 0.2490 - accuracy: 0.9147 - val_loss: 0.2576 - val_accuracy: 0.9090\n",
            "Epoch 10/50\n",
            "461/461 [==============================] - 13s 29ms/step - loss: 0.2426 - accuracy: 0.9176 - val_loss: 0.2546 - val_accuracy: 0.9094\n",
            "Epoch 11/50\n",
            "461/461 [==============================] - 17s 37ms/step - loss: 0.2327 - accuracy: 0.9173 - val_loss: 0.2463 - val_accuracy: 0.9190\n",
            "Epoch 12/50\n",
            "461/461 [==============================] - 14s 31ms/step - loss: 0.2306 - accuracy: 0.9187 - val_loss: 0.2481 - val_accuracy: 0.9128\n",
            "Epoch 13/50\n",
            "461/461 [==============================] - 14s 29ms/step - loss: 0.2247 - accuracy: 0.9208 - val_loss: 0.2426 - val_accuracy: 0.9078\n",
            "Epoch 14/50\n",
            "461/461 [==============================] - 13s 29ms/step - loss: 0.2192 - accuracy: 0.9237 - val_loss: 0.2485 - val_accuracy: 0.9136\n",
            "Epoch 15/50\n",
            "461/461 [==============================] - 13s 29ms/step - loss: 0.2178 - accuracy: 0.9220 - val_loss: 0.2468 - val_accuracy: 0.9090\n",
            "Epoch 16/50\n",
            "461/461 [==============================] - 13s 29ms/step - loss: 0.2136 - accuracy: 0.9223 - val_loss: 0.2440 - val_accuracy: 0.9111\n",
            "Epoch 17/50\n",
            "461/461 [==============================] - 13s 29ms/step - loss: 0.2103 - accuracy: 0.9244 - val_loss: 0.2416 - val_accuracy: 0.9115\n",
            "Epoch 18/50\n",
            "461/461 [==============================] - 13s 28ms/step - loss: 0.2068 - accuracy: 0.9267 - val_loss: 0.2385 - val_accuracy: 0.9182\n",
            "Epoch 19/50\n",
            "461/461 [==============================] - 13s 28ms/step - loss: 0.2064 - accuracy: 0.9250 - val_loss: 0.2408 - val_accuracy: 0.9090\n",
            "Epoch 20/50\n",
            "461/461 [==============================] - 13s 28ms/step - loss: 0.2046 - accuracy: 0.9275 - val_loss: 0.2475 - val_accuracy: 0.9086\n",
            "Epoch 21/50\n",
            "461/461 [==============================] - 13s 28ms/step - loss: 0.1980 - accuracy: 0.9286 - val_loss: 0.2336 - val_accuracy: 0.9107\n",
            "Epoch 22/50\n",
            "461/461 [==============================] - 13s 28ms/step - loss: 0.1978 - accuracy: 0.9286 - val_loss: 0.2342 - val_accuracy: 0.9169\n",
            "Epoch 23/50\n",
            "461/461 [==============================] - 13s 28ms/step - loss: 0.1915 - accuracy: 0.9285 - val_loss: 0.2488 - val_accuracy: 0.9149\n",
            "Epoch 24/50\n",
            "461/461 [==============================] - 13s 27ms/step - loss: 0.1939 - accuracy: 0.9296 - val_loss: 0.2549 - val_accuracy: 0.9144\n",
            "Epoch 25/50\n",
            "461/461 [==============================] - 13s 27ms/step - loss: 0.1859 - accuracy: 0.9304 - val_loss: 0.2402 - val_accuracy: 0.9165\n",
            "Epoch 26/50\n",
            "461/461 [==============================] - 13s 27ms/step - loss: 0.1836 - accuracy: 0.9330 - val_loss: 0.2405 - val_accuracy: 0.9132\n",
            "Epoch 27/50\n",
            "461/461 [==============================] - 13s 27ms/step - loss: 0.1852 - accuracy: 0.9311 - val_loss: 0.2527 - val_accuracy: 0.9107\n",
            "Epoch 28/50\n",
            "461/461 [==============================] - 13s 28ms/step - loss: 0.1866 - accuracy: 0.9345 - val_loss: 0.2283 - val_accuracy: 0.9190\n",
            "Epoch 29/50\n",
            "461/461 [==============================] - 13s 28ms/step - loss: 0.1836 - accuracy: 0.9299 - val_loss: 0.2311 - val_accuracy: 0.9107\n",
            "Epoch 30/50\n",
            "461/461 [==============================] - 12s 27ms/step - loss: 0.1811 - accuracy: 0.9330 - val_loss: 0.2345 - val_accuracy: 0.9124\n",
            "Epoch 31/50\n",
            "461/461 [==============================] - 12s 27ms/step - loss: 0.1814 - accuracy: 0.9350 - val_loss: 0.2475 - val_accuracy: 0.9136\n",
            "Epoch 32/50\n",
            "461/461 [==============================] - 12s 27ms/step - loss: 0.1766 - accuracy: 0.9346 - val_loss: 0.2368 - val_accuracy: 0.9153\n",
            "Epoch 33/50\n",
            "461/461 [==============================] - 13s 27ms/step - loss: 0.1769 - accuracy: 0.9358 - val_loss: 0.2261 - val_accuracy: 0.9207\n",
            "Epoch 34/50\n",
            "461/461 [==============================] - 13s 27ms/step - loss: 0.1768 - accuracy: 0.9349 - val_loss: 0.2347 - val_accuracy: 0.9215\n",
            "Epoch 35/50\n",
            "461/461 [==============================] - 12s 27ms/step - loss: 0.1715 - accuracy: 0.9358 - val_loss: 0.2242 - val_accuracy: 0.9174\n",
            "Epoch 36/50\n",
            "461/461 [==============================] - 12s 27ms/step - loss: 0.1712 - accuracy: 0.9344 - val_loss: 0.2303 - val_accuracy: 0.9169\n",
            "Epoch 37/50\n",
            "461/461 [==============================] - 12s 27ms/step - loss: 0.1728 - accuracy: 0.9366 - val_loss: 0.2264 - val_accuracy: 0.9190\n",
            "Epoch 38/50\n",
            "461/461 [==============================] - 12s 27ms/step - loss: 0.1685 - accuracy: 0.9379 - val_loss: 0.2339 - val_accuracy: 0.9165\n",
            "Epoch 39/50\n",
            "461/461 [==============================] - 12s 27ms/step - loss: 0.1719 - accuracy: 0.9372 - val_loss: 0.2384 - val_accuracy: 0.9153\n",
            "Epoch 40/50\n",
            "461/461 [==============================] - 12s 27ms/step - loss: 0.1676 - accuracy: 0.9372 - val_loss: 0.2362 - val_accuracy: 0.9194\n",
            "Epoch 41/50\n",
            "461/461 [==============================] - 13s 27ms/step - loss: 0.1701 - accuracy: 0.9371 - val_loss: 0.2317 - val_accuracy: 0.9186\n",
            "Epoch 42/50\n",
            "461/461 [==============================] - 12s 27ms/step - loss: 0.1664 - accuracy: 0.9360 - val_loss: 0.2255 - val_accuracy: 0.9199\n",
            "Epoch 43/50\n",
            "461/461 [==============================] - 12s 27ms/step - loss: 0.1667 - accuracy: 0.9366 - val_loss: 0.2368 - val_accuracy: 0.9211\n",
            "Epoch 44/50\n",
            "461/461 [==============================] - 12s 27ms/step - loss: 0.1662 - accuracy: 0.9377 - val_loss: 0.2398 - val_accuracy: 0.9157\n",
            "Epoch 45/50\n",
            "461/461 [==============================] - 12s 27ms/step - loss: 0.1629 - accuracy: 0.9400 - val_loss: 0.2280 - val_accuracy: 0.9190\n",
            "Epoch 46/50\n",
            "461/461 [==============================] - 12s 27ms/step - loss: 0.1650 - accuracy: 0.9391 - val_loss: 0.2514 - val_accuracy: 0.9136\n",
            "Epoch 47/50\n",
            "461/461 [==============================] - 13s 28ms/step - loss: 0.1590 - accuracy: 0.9396 - val_loss: 0.2329 - val_accuracy: 0.9182\n",
            "Epoch 48/50\n",
            "461/461 [==============================] - 12s 27ms/step - loss: 0.1627 - accuracy: 0.9397 - val_loss: 0.2321 - val_accuracy: 0.9199\n",
            "Epoch 49/50\n",
            "461/461 [==============================] - 12s 27ms/step - loss: 0.1614 - accuracy: 0.9395 - val_loss: 0.2300 - val_accuracy: 0.9207\n",
            "Epoch 50/50\n",
            "461/461 [==============================] - 12s 26ms/step - loss: 0.1605 - accuracy: 0.9400 - val_loss: 0.2212 - val_accuracy: 0.9203\n"
          ]
        }
      ]
    },
    {
      "cell_type": "code",
      "source": [
        "target_names = pd.Categorical(lang).categories\n",
        "\n",
        "y_prob = model.predict(test_padded)\n",
        "y_pred = np.argmax(y_prob,axis=1)\n",
        "print(classification_report(df_test_y_int,y_pred, target_names=target_names))"
      ],
      "metadata": {
        "colab": {
          "base_uri": "https://localhost:8080/"
        },
        "id": "eAw4M1iBUg99",
        "outputId": "4e322cf9-11fa-4e59-d5bf-54ee340ff29e"
      },
      "execution_count": 29,
      "outputs": [
        {
          "output_type": "stream",
          "name": "stdout",
          "text": [
            "              precision    recall  f1-score   support\n",
            "\n",
            "      Arabic       0.99      1.00      1.00       240\n",
            "     Chinese       0.49      0.37      0.42       221\n",
            "       Dutch       1.00      0.99      0.99       209\n",
            "     English       0.86      0.96      0.91       212\n",
            "    Estonian       0.98      0.97      0.98       222\n",
            "      French       0.97      0.98      0.97       217\n",
            "       Hindi       1.00      0.97      0.99       239\n",
            "  Indonesian       0.99      0.98      0.98       212\n",
            "    Japanese       0.69      0.24      0.36       212\n",
            "      Korean       1.00      0.99      0.99       219\n",
            "       Latin       0.90      0.94      0.92       218\n",
            "     Persian       1.00      1.00      1.00       212\n",
            "   Portugese       0.97      0.98      0.98       211\n",
            "      Pushto       1.00      0.97      0.98       216\n",
            "    Romanian       1.00      0.98      0.99       232\n",
            "     Russian       0.99      0.99      0.99       237\n",
            "     Spanish       0.99      0.98      0.98       216\n",
            "     Swedish       1.00      1.00      1.00       203\n",
            "       Tamil       1.00      0.98      0.99       234\n",
            "        Thai       0.50      0.93      0.65       222\n",
            "     Turkish       1.00      0.99      0.99       220\n",
            "        Urdu       1.00      0.98      0.99       240\n",
            "\n",
            "    accuracy                           0.92      4864\n",
            "   macro avg       0.92      0.92      0.91      4864\n",
            "weighted avg       0.92      0.92      0.91      4864\n",
            "\n"
          ]
        }
      ]
    },
    {
      "cell_type": "code",
      "source": [
        "plt.plot(history_fine.history['loss'])\n",
        "plt.plot(history_fine.history['val_loss'])\n",
        "plt.title('model loss')\n",
        "plt.ylabel('loss')\n",
        "plt.xlabel('epoch')\n",
        "plt.legend(['training set','validation set'], loc='upper left')\n",
        "plt.show()\n",
        "plt.savefig('historyfine_Word2Vec_CNN.eps', format='eps')"
      ],
      "metadata": {
        "colab": {
          "base_uri": "https://localhost:8080/",
          "height": 313
        },
        "id": "zw6WZIdqCVB1",
        "outputId": "189b04fa-e47d-4f91-eeb3-bae12d305f47"
      },
      "execution_count": 30,
      "outputs": [
        {
          "output_type": "display_data",
          "data": {
            "text/plain": [
              "<Figure size 432x288 with 1 Axes>"
            ],
            "image/png": "[encoded data removed]"
          },
          "metadata": {
            "needs_background": "light"
          }
        },
        {
          "output_type": "display_data",
          "data": {
            "text/plain": [
              "<Figure size 432x288 with 0 Axes>"
            ]
          },
          "metadata": {}
        }
      ]
    },
    {
      "cell_type": "code",
      "source": [
        "disp = ConfusionMatrixDisplay.from_predictions(df_test_y_int, y_pred)\n",
        "fig = disp.ax_.get_figure()  \n",
        "fig.set_figwidth(10) \n",
        "fig.set_figheight(10)\n",
        "plt.show()\n",
        "plt.savefig('confmatrix_Word2Vec_CNN.eps', format='eps')"
      ],
      "metadata": {
        "colab": {
          "base_uri": "https://localhost:8080/",
          "height": 598
        },
        "id": "qamZqY3iCZJQ",
        "outputId": "a3950c1b-23ff-4fbc-f805-3c87817a5358"
      },
      "execution_count": 31,
      "outputs": [
        {
          "output_type": "display_data",
          "data": {
            "text/plain": [
              "<Figure size 720x720 with 2 Axes>"
            ],
            "image/png": "[encoded data removed]"
          },
          "metadata": {
            "needs_background": "light"
          }
        },
        {
          "output_type": "display_data",
          "data": {
            "text/plain": [
              "<Figure size 432x288 with 0 Axes>"
            ]
          },
          "metadata": {}
        }
      ]
    }
  ]
}