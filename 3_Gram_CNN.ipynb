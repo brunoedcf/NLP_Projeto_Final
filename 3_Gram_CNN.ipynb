{
  "nbformat": 4,
  "nbformat_minor": 0,
  "metadata": {
    "colab": {
      "provenance": [],
      "authorship_tag": "ABX9TyPeUVZWpzxkTeTBAxGDkZUT",
      "include_colab_link": true
    },
    "kernelspec": {
      "name": "python3",
      "display_name": "Python 3"
    },
    "language_info": {
      "name": "python"
    },
    "accelerator": "GPU"
  },
  "cells": [
    {
      "cell_type": "markdown",
      "metadata": {
        "id": "view-in-github",
        "colab_type": "text"
      },
      "source": [
        "<a href=\"https://colab.research.google.com/github/brunoedcf/NLP_2022_1/blob/main/3_Gram_CNN.ipynb\" target=\"_parent\"><img src=\"https://colab.research.google.com/assets/colab-badge.svg\" alt=\"Open In Colab\"/></a>"
      ]
    },
    {
      "cell_type": "code",
      "source": [
        "!pip install pythainlp\n",
        "!pip install advertools\n",
        "!pip install -U gensim"
      ],
      "metadata": {
        "id": "LnCtMQgELO4g"
      },
      "execution_count": null,
      "outputs": []
    },
    {
      "cell_type": "markdown",
      "source": [
        "# ***Imports***"
      ],
      "metadata": {
        "id": "hTlJr9ojZbdg"
      }
    },
    {
      "cell_type": "code",
      "source": [
        "import pandas as pd\n",
        "import numpy as np\n",
        "import re\n",
        "import keras\n",
        "import pythainlp\n",
        "import advertools as adv\n",
        "import matplotlib.pyplot as plt\n",
        "\n",
        "from tensorflow.keras.preprocessing.text import Tokenizer\n",
        "from tensorflow.keras.preprocessing.sequence import pad_sequences\n",
        "from tensorflow.keras.optimizers import SGD\n",
        "\n",
        "from sklearn.model_selection import train_test_split\n",
        "from sklearn.metrics import classification_report\n",
        "from sklearn.metrics import ConfusionMatrixDisplay\n",
        "\n",
        "from keras.utils.np_utils import to_categorical\n",
        "from keras.models import Sequential\n",
        "from keras.layers import Dense, Conv1D, Embedding, GlobalMaxPooling1D, Activation, Dropout\n",
        "\n",
        "import nltk\n",
        "nltk.download('punkt')"
      ],
      "metadata": {
        "id": "i7J5tgYkBuBy"
      },
      "execution_count": null,
      "outputs": []
    },
    {
      "cell_type": "code",
      "source": [
        "data_path = 'https://raw.githubusercontent.com/brunoedcf/bert-base-multilingual-cased_Language_Classifier/main/dataset.csv'"
      ],
      "metadata": {
        "id": "v-tQRcTRBuxE"
      },
      "execution_count": 3,
      "outputs": []
    },
    {
      "cell_type": "code",
      "source": [
        "df = pd.read_csv(data_path)"
      ],
      "metadata": {
        "id": "PbGuCu2EBvkm"
      },
      "execution_count": 4,
      "outputs": []
    },
    {
      "cell_type": "code",
      "source": [
        "df"
      ],
      "metadata": {
        "colab": {
          "base_uri": "https://localhost:8080/",
          "height": 423
        },
        "id": "hThGjMXVBwSE",
        "outputId": "5dfd03ac-3e99-40c5-f498-06c92e235079"
      },
      "execution_count": 5,
      "outputs": [
        {
          "output_type": "execute_result",
          "data": {
            "text/plain": [
              "                                                    Text  language\n",
              "0      klement gottwaldi surnukeha palsameeriti ning ...  Estonian\n",
              "1      sebes joseph pereira thomas  på eng the jesuit...   Swedish\n",
              "2      ถนนเจริญกรุง อักษรโรมัน thanon charoen krung เ...      Thai\n",
              "3      விசாகப்பட்டினம் தமிழ்ச்சங்கத்தை இந்துப் பத்திர...     Tamil\n",
              "4      de spons behoort tot het geslacht haliclona en...     Dutch\n",
              "...                                                  ...       ...\n",
              "21995  hors du terrain les années  et  sont des année...    French\n",
              "21996  ใน พศ  หลักจากที่เสด็จประพาสแหลมมลายู ชวา อินเ...      Thai\n",
              "21997  con motivo de la celebración del septuagésimoq...   Spanish\n",
              "21998  年月，當時還只有歲的她在美國出道，以mai-k名義推出首張英文《baby i like》，由...   Chinese\n",
              "21999   aprilie sonda spațială messenger a nasa și-a ...  Romanian\n",
              "\n",
              "[22000 rows x 2 columns]"
            ],
            "text/html": [
              "\n",
              "  <div id=\"df-3d50de66-8833-4c02-8417-58ce1baca910\">\n",
              "    <div class=\"colab-df-container\">\n",
              "      <div>\n",
              "<style scoped>\n",
              "    .dataframe tbody tr th:only-of-type {\n",
              "        vertical-align: middle;\n",
              "    }\n",
              "\n",
              "    .dataframe tbody tr th {\n",
              "        vertical-align: top;\n",
              "    }\n",
              "\n",
              "    .dataframe thead th {\n",
              "        text-align: right;\n",
              "    }\n",
              "</style>\n",
              "<table border=\"1\" class=\"dataframe\">\n",
              "  <thead>\n",
              "    <tr style=\"text-align: right;\">\n",
              "      <th></th>\n",
              "      <th>Text</th>\n",
              "      <th>language</th>\n",
              "    </tr>\n",
              "  </thead>\n",
              "  <tbody>\n",
              "    <tr>\n",
              "      <th>0</th>\n",
              "      <td>klement gottwaldi surnukeha palsameeriti ning ...</td>\n",
              "      <td>Estonian</td>\n",
              "    </tr>\n",
              "    <tr>\n",
              "      <th>1</th>\n",
              "      <td>sebes joseph pereira thomas  på eng the jesuit...</td>\n",
              "      <td>Swedish</td>\n",
              "    </tr>\n",
              "    <tr>\n",
              "      <th>2</th>\n",
              "      <td>ถนนเจริญกรุง อักษรโรมัน thanon charoen krung เ...</td>\n",
              "      <td>Thai</td>\n",
              "    </tr>\n",
              "    <tr>\n",
              "      <th>3</th>\n",
              "      <td>விசாகப்பட்டினம் தமிழ்ச்சங்கத்தை இந்துப் பத்திர...</td>\n",
              "      <td>Tamil</td>\n",
              "    </tr>\n",
              "    <tr>\n",
              "      <th>4</th>\n",
              "      <td>de spons behoort tot het geslacht haliclona en...</td>\n",
              "      <td>Dutch</td>\n",
              "    </tr>\n",
              "    <tr>\n",
              "      <th>...</th>\n",
              "      <td>...</td>\n",
              "      <td>...</td>\n",
              "    </tr>\n",
              "    <tr>\n",
              "      <th>21995</th>\n",
              "      <td>hors du terrain les années  et  sont des année...</td>\n",
              "      <td>French</td>\n",
              "    </tr>\n",
              "    <tr>\n",
              "      <th>21996</th>\n",
              "      <td>ใน พศ  หลักจากที่เสด็จประพาสแหลมมลายู ชวา อินเ...</td>\n",
              "      <td>Thai</td>\n",
              "    </tr>\n",
              "    <tr>\n",
              "      <th>21997</th>\n",
              "      <td>con motivo de la celebración del septuagésimoq...</td>\n",
              "      <td>Spanish</td>\n",
              "    </tr>\n",
              "    <tr>\n",
              "      <th>21998</th>\n",
              "      <td>年月，當時還只有歲的她在美國出道，以mai-k名義推出首張英文《baby i like》，由...</td>\n",
              "      <td>Chinese</td>\n",
              "    </tr>\n",
              "    <tr>\n",
              "      <th>21999</th>\n",
              "      <td>aprilie sonda spațială messenger a nasa și-a ...</td>\n",
              "      <td>Romanian</td>\n",
              "    </tr>\n",
              "  </tbody>\n",
              "</table>\n",
              "<p>22000 rows × 2 columns</p>\n",
              "</div>\n",
              "      <button class=\"colab-df-convert\" onclick=\"convertToInteractive('df-3d50de66-8833-4c02-8417-58ce1baca910')\"\n",
              "              title=\"Convert this dataframe to an interactive table.\"\n",
              "              style=\"display:none;\">\n",
              "        \n",
              "  <svg xmlns=\"http://www.w3.org/2000/svg\" height=\"24px\"viewBox=\"0 0 24 24\"\n",
              "       width=\"24px\">\n",
              "    <path d=\"M0 0h24v24H0V0z\" fill=\"none\"/>\n",
              "    <path d=\"M18.56 5.44l.94 2.06.94-2.06 2.06-.94-2.06-.94-.94-2.06-.94 2.06-2.06.94zm-11 1L8.5 8.5l.94-2.06 2.06-.94-2.06-.94L8.5 2.5l-.94 2.06-2.06.94zm10 10l.94 2.06.94-2.06 2.06-.94-2.06-.94-.94-2.06-.94 2.06-2.06.94z\"/><path d=\"M17.41 7.96l-1.37-1.37c-.4-.4-.92-.59-1.43-.59-.52 0-1.04.2-1.43.59L10.3 9.45l-7.72 7.72c-.78.78-.78 2.05 0 2.83L4 21.41c.39.39.9.59 1.41.59.51 0 1.02-.2 1.41-.59l7.78-7.78 2.81-2.81c.8-.78.8-2.07 0-2.86zM5.41 20L4 18.59l7.72-7.72 1.47 1.35L5.41 20z\"/>\n",
              "  </svg>\n",
              "      </button>\n",
              "      \n",
              "  <style>\n",
              "    .colab-df-container {\n",
              "      display:flex;\n",
              "      flex-wrap:wrap;\n",
              "      gap: 12px;\n",
              "    }\n",
              "\n",
              "    .colab-df-convert {\n",
              "      background-color: #E8F0FE;\n",
              "      border: none;\n",
              "      border-radius: 50%;\n",
              "      cursor: pointer;\n",
              "      display: none;\n",
              "      fill: #1967D2;\n",
              "      height: 32px;\n",
              "      padding: 0 0 0 0;\n",
              "      width: 32px;\n",
              "    }\n",
              "\n",
              "    .colab-df-convert:hover {\n",
              "      background-color: #E2EBFA;\n",
              "      box-shadow: 0px 1px 2px rgba(60, 64, 67, 0.3), 0px 1px 3px 1px rgba(60, 64, 67, 0.15);\n",
              "      fill: #174EA6;\n",
              "    }\n",
              "\n",
              "    [theme=dark] .colab-df-convert {\n",
              "      background-color: #3B4455;\n",
              "      fill: #D2E3FC;\n",
              "    }\n",
              "\n",
              "    [theme=dark] .colab-df-convert:hover {\n",
              "      background-color: #434B5C;\n",
              "      box-shadow: 0px 1px 3px 1px rgba(0, 0, 0, 0.15);\n",
              "      filter: drop-shadow(0px 1px 2px rgba(0, 0, 0, 0.3));\n",
              "      fill: #FFFFFF;\n",
              "    }\n",
              "  </style>\n",
              "\n",
              "      <script>\n",
              "        const buttonEl =\n",
              "          document.querySelector('#df-3d50de66-8833-4c02-8417-58ce1baca910 button.colab-df-convert');\n",
              "        buttonEl.style.display =\n",
              "          google.colab.kernel.accessAllowed ? 'block' : 'none';\n",
              "\n",
              "        async function convertToInteractive(key) {\n",
              "          const element = document.querySelector('#df-3d50de66-8833-4c02-8417-58ce1baca910');\n",
              "          const dataTable =\n",
              "            await google.colab.kernel.invokeFunction('convertToInteractive',\n",
              "                                                     [key], {});\n",
              "          if (!dataTable) return;\n",
              "\n",
              "          const docLinkHtml = 'Like what you see? Visit the ' +\n",
              "            '<a target=\"_blank\" href=https://colab.research.google.com/notebooks/data_table.ipynb>data table notebook</a>'\n",
              "            + ' to learn more about interactive tables.';\n",
              "          element.innerHTML = '';\n",
              "          dataTable['output_type'] = 'display_data';\n",
              "          await google.colab.output.renderOutput(dataTable, element);\n",
              "          const docLink = document.createElement('div');\n",
              "          docLink.innerHTML = docLinkHtml;\n",
              "          element.appendChild(docLink);\n",
              "        }\n",
              "      </script>\n",
              "    </div>\n",
              "  </div>\n",
              "  "
            ]
          },
          "metadata": {},
          "execution_count": 5
        }
      ]
    },
    {
      "cell_type": "code",
      "source": [
        "df['language'].value_counts()"
      ],
      "metadata": {
        "colab": {
          "base_uri": "https://localhost:8080/"
        },
        "id": "JZByaEBjBxJK",
        "outputId": "ceca5b21-59cc-44f6-fc36-162b7d22cd7d"
      },
      "execution_count": 6,
      "outputs": [
        {
          "output_type": "execute_result",
          "data": {
            "text/plain": [
              "Estonian      1000\n",
              "Swedish       1000\n",
              "English       1000\n",
              "Russian       1000\n",
              "Romanian      1000\n",
              "Persian       1000\n",
              "Pushto        1000\n",
              "Spanish       1000\n",
              "Hindi         1000\n",
              "Korean        1000\n",
              "Chinese       1000\n",
              "French        1000\n",
              "Portugese     1000\n",
              "Indonesian    1000\n",
              "Urdu          1000\n",
              "Latin         1000\n",
              "Turkish       1000\n",
              "Japanese      1000\n",
              "Dutch         1000\n",
              "Tamil         1000\n",
              "Thai          1000\n",
              "Arabic        1000\n",
              "Name: language, dtype: int64"
            ]
          },
          "metadata": {},
          "execution_count": 6
        }
      ]
    },
    {
      "cell_type": "code",
      "source": [
        "text = df['Text'].tolist()\n",
        "lang = df['language'].tolist()"
      ],
      "metadata": {
        "id": "2QpZpCoPLIrh"
      },
      "execution_count": 29,
      "outputs": []
    },
    {
      "cell_type": "markdown",
      "source": [
        "# ***Pre-Processing***"
      ],
      "metadata": {
        "id": "cAudETgYZKxZ"
      }
    },
    {
      "cell_type": "code",
      "source": [
        "def pre_process(text):\n",
        "  treated = re.sub(r'[\\/\\。\\・\\、\\，\\「\\」\\、\\-\\（\\）\\『\\』\\；\\：\\：\\－\\”\\·\\–\\~\\—\\«\\—]', ' ', text)\n",
        "  treated = re.sub(r'[\\[\\]\\,\\.\\\"\\'\\(\\)\\%\\:\\;\\<\\>\\?\\!\\+\\*\\&\\$\\#\\@\\《\\》\\—]', ' ', treated)\n",
        "  treated = re.sub(r'\\\\n', ' ', treated)\n",
        "  treated = re.sub(r'[0-9]', ' ', treated)\n",
        "  treated = re.sub(r'\\\\u200c', ' ', treated)\n",
        "  treated = re.sub(r'\\\\u200b', ' ', treated)\n",
        "  treated = re.sub(r'\\s+', ' ', treated)\n",
        "  treated = treated.lower()\n",
        "\n",
        "  return treated"
      ],
      "metadata": {
        "id": "MBgCIRQlBySb"
      },
      "execution_count": 8,
      "outputs": []
    },
    {
      "cell_type": "code",
      "source": [
        "text = [pre_process(t) for t in text]"
      ],
      "metadata": {
        "id": "nJw6OzFwLNC9"
      },
      "execution_count": 30,
      "outputs": []
    },
    {
      "cell_type": "code",
      "source": [
        "for i, row in enumerate(text):\n",
        "\n",
        "  if lang[i] == 'Thai':\n",
        "    for stopword in pythainlp.corpus.common.thai_stopwords():\n",
        "      if stopword in row:\n",
        "        text[i] = pre_process(re.sub(stopword, ' ', row).strip())\n",
        "\n",
        "  elif lang[i] == 'Japanese':\n",
        "    for stopword in adv.stopwords['japanese']:\n",
        "      if stopword in row:\n",
        "        text[i] = pre_process(re.sub(stopword, ' ', row).strip())\n",
        "\n",
        "  elif lang[i] == \"Chinese\":\n",
        "    for stopword in adv.stopwords['chinese']:\n",
        "      if stopword in row:\n",
        "        text[i] = pre_process(re.sub(stopword, ' ', row).strip())"
      ],
      "metadata": {
        "id": "YyVFzFODLRyS"
      },
      "execution_count": 31,
      "outputs": []
    },
    {
      "cell_type": "markdown",
      "source": [
        "# ***Create 3-Grams***"
      ],
      "metadata": {
        "id": "ZIQRO0rzZN6k"
      }
    },
    {
      "cell_type": "code",
      "source": [
        "def create_3gram(text):\n",
        "\n",
        "  if len(text) < 6:\n",
        "    text += '###'\n",
        "\n",
        "  tokens = []\n",
        "  tokens.append('##' + text[0])\n",
        "  tokens.append('#' + text[0] + text[1])\n",
        "  for i in range(0, len(text) - 2):\n",
        "    tokens.append(text[i:i+3])\n",
        "  \n",
        "  tokens.append( text[len(text)-2 : len(text)] + '#')\n",
        "  tokens.append(text[len(text)-1] + '##')\n",
        "\n",
        "  tokens = [re.sub(r'\\s','#', t) for t in tokens]\n",
        "\n",
        "  return tokens"
      ],
      "metadata": {
        "id": "Ko4EFBOMB0Rm"
      },
      "execution_count": 11,
      "outputs": []
    },
    {
      "cell_type": "code",
      "source": [
        "text_3gram = [create_3gram(t) for t in text]"
      ],
      "metadata": {
        "id": "OxvlxgnrLvPf"
      },
      "execution_count": 32,
      "outputs": []
    },
    {
      "cell_type": "code",
      "source": [
        "text[0][:5], text[0][len(text[0])-5: len(text[0])]"
      ],
      "metadata": {
        "colab": {
          "base_uri": "https://localhost:8080/"
        },
        "id": "YQX5Ae-fMT-c",
        "outputId": "eb77c32e-4898-42ad-8397-cd5f831f7aac"
      },
      "execution_count": 33,
      "outputs": [
        {
          "output_type": "execute_result",
          "data": {
            "text/plain": [
              "('kleme', 'tvald')"
            ]
          },
          "metadata": {},
          "execution_count": 33
        }
      ]
    },
    {
      "cell_type": "code",
      "source": [
        "text_3gram[0][:5], text_3gram[0][len(text_3gram[0])-5: len(text_3gram[0])]"
      ],
      "metadata": {
        "colab": {
          "base_uri": "https://localhost:8080/"
        },
        "id": "k2wqQ1j5_gCo",
        "outputId": "ad45af43-2dd4-4d85-c57e-6403baaf37ee"
      },
      "execution_count": 40,
      "outputs": [
        {
          "output_type": "execute_result",
          "data": {
            "text/plain": [
              "(['##k', '#kl', 'kle', 'lem', 'eme'], ['tva', 'val', 'ald', 'ld#', 'd##'])"
            ]
          },
          "metadata": {},
          "execution_count": 40
        }
      ]
    },
    {
      "cell_type": "markdown",
      "source": [
        "# ***Split in Training, Test and Validation***"
      ],
      "metadata": {
        "id": "6Bin1thMJEkw"
      }
    },
    {
      "cell_type": "code",
      "source": [
        "train_x, test_x, train_y, test_y = train_test_split(text_3gram, lang, test_size=0.33, random_state=42)\n",
        "test_x, valid_x, test_y, valid_y = train_test_split(test_x, test_y, test_size=0.33, random_state=42)"
      ],
      "metadata": {
        "id": "WnkL6VvYXSO6"
      },
      "execution_count": 14,
      "outputs": []
    },
    {
      "cell_type": "markdown",
      "source": [
        "# ***Labels to Categorical***"
      ],
      "metadata": {
        "id": "pcNi95pxJJUP"
      }
    },
    {
      "cell_type": "code",
      "source": [
        "df_train_y = pd.Categorical(train_y)\n",
        "df_train_y_int = df_train_y.codes\n",
        "train_y = to_categorical(df_train_y_int)\n",
        "\n",
        "df_test_y = pd.Categorical(test_y)\n",
        "df_test_y_int = df_test_y.codes\n",
        "test_y = to_categorical(df_test_y_int)\n",
        "\n",
        "df_valid_y = pd.Categorical(valid_y)\n",
        "df_valid_y_int = df_valid_y.codes\n",
        "valid_y = to_categorical(df_valid_y_int)"
      ],
      "metadata": {
        "id": "ldU57Dr7WU6d"
      },
      "execution_count": 15,
      "outputs": []
    },
    {
      "cell_type": "markdown",
      "source": [
        "# ***Count Vocabulary***"
      ],
      "metadata": {
        "id": "hgmK9alhJyjc"
      }
    },
    {
      "cell_type": "code",
      "source": [
        "vocab = {}\n",
        "for text in train_x:\n",
        "  for word in text:\n",
        "    if word not in vocab:\n",
        "      vocab[word] = 1"
      ],
      "metadata": {
        "id": "77KwmzjkZbxa"
      },
      "execution_count": 16,
      "outputs": []
    },
    {
      "cell_type": "code",
      "source": [
        "vocab_size = len(vocab)\n",
        "vocab_size"
      ],
      "metadata": {
        "colab": {
          "base_uri": "https://localhost:8080/"
        },
        "id": "hScf20svZ4KJ",
        "outputId": "55bcb3e9-1ae8-4eb8-cf89-0e73620b81e9"
      },
      "execution_count": 17,
      "outputs": [
        {
          "output_type": "execute_result",
          "data": {
            "text/plain": [
              "352124"
            ]
          },
          "metadata": {},
          "execution_count": 17
        }
      ]
    },
    {
      "cell_type": "markdown",
      "source": [
        "# ***Tokenizer***"
      ],
      "metadata": {
        "id": "hrr0u-qtIMIs"
      }
    },
    {
      "cell_type": "code",
      "source": [
        "tokenizer = Tokenizer(num_words = vocab_size)\n",
        "tokenizer.fit_on_texts(train_x)"
      ],
      "metadata": {
        "id": "ppsNNpvPJvbD"
      },
      "execution_count": 18,
      "outputs": []
    },
    {
      "cell_type": "code",
      "source": [
        "word_index = tokenizer.word_index"
      ],
      "metadata": {
        "id": "IVYa6XrwKUfs"
      },
      "execution_count": 19,
      "outputs": []
    },
    {
      "cell_type": "code",
      "source": [
        "vocab_size = len(word_index) + 1"
      ],
      "metadata": {
        "id": "zjUSIyPeKViu"
      },
      "execution_count": 20,
      "outputs": []
    },
    {
      "cell_type": "code",
      "source": [
        "train_sequences = tokenizer.texts_to_sequences(train_x)\n",
        "test_sequences = tokenizer.texts_to_sequences(test_x)\n",
        "valid_sequences = tokenizer.texts_to_sequences(valid_x)"
      ],
      "metadata": {
        "id": "3BaW2IDKKa5k"
      },
      "execution_count": 21,
      "outputs": []
    },
    {
      "cell_type": "code",
      "source": [
        "max_length = 64\n",
        "trunc_type = 'post'\n",
        "padding_type = 'post'\n",
        "n = 100"
      ],
      "metadata": {
        "id": "F-hLvVh-K4ao"
      },
      "execution_count": 22,
      "outputs": []
    },
    {
      "cell_type": "code",
      "source": [
        "train_padded = pad_sequences(train_sequences, maxlen=max_length, padding=padding_type, truncating=trunc_type)\n",
        "valid_padded = pad_sequences(valid_sequences, maxlen=max_length, padding=padding_type, truncating=trunc_type)\n",
        "test_padded = pad_sequences(test_sequences, maxlen=max_length, padding=padding_type, truncating=trunc_type)"
      ],
      "metadata": {
        "id": "33STI4HzLkb4"
      },
      "execution_count": 23,
      "outputs": []
    },
    {
      "cell_type": "markdown",
      "source": [
        "# ***Model***"
      ],
      "metadata": {
        "id": "80I4iUONIp8H"
      }
    },
    {
      "cell_type": "code",
      "source": [
        "model = Sequential()\n",
        "model.add(Embedding(vocab_size, output_dim = n, input_length=max_length))\n",
        "model.add(Conv1D(filters=128, kernel_size=6, strides=1))\n",
        "model.add(Activation('relu'))\n",
        "model.add(Dropout(0.5))\n",
        "model.add(GlobalMaxPooling1D())\n",
        "model.add(Dense(128))\n",
        "model.add(Activation('relu'))\n",
        "model.add(Dropout(0.3))\n",
        "model.add(Dense(64))\n",
        "model.add(Activation('relu'))\n",
        "model.add(Dropout(0.3))\n",
        "model.add(Dense(22, activation='softmax'))\n",
        "model.summary()"
      ],
      "metadata": {
        "id": "Tg0D6lcXYkaL",
        "colab": {
          "base_uri": "https://localhost:8080/"
        },
        "outputId": "381cdbc3-b6fb-4860-dc81-18f80d18c9bc"
      },
      "execution_count": 35,
      "outputs": [
        {
          "output_type": "stream",
          "name": "stdout",
          "text": [
            "Model: \"sequential_1\"\n",
            "_________________________________________________________________\n",
            " Layer (type)                Output Shape              Param #   \n",
            "=================================================================\n",
            " embedding_1 (Embedding)     (None, 64, 100)           35212500  \n",
            "                                                                 \n",
            " conv1d_1 (Conv1D)           (None, 59, 128)           76928     \n",
            "                                                                 \n",
            " activation_3 (Activation)   (None, 59, 128)           0         \n",
            "                                                                 \n",
            " dropout_3 (Dropout)         (None, 59, 128)           0         \n",
            "                                                                 \n",
            " global_max_pooling1d_1 (Glo  (None, 128)              0         \n",
            " balMaxPooling1D)                                                \n",
            "                                                                 \n",
            " dense_3 (Dense)             (None, 128)               16512     \n",
            "                                                                 \n",
            " activation_4 (Activation)   (None, 128)               0         \n",
            "                                                                 \n",
            " dropout_4 (Dropout)         (None, 128)               0         \n",
            "                                                                 \n",
            " dense_4 (Dense)             (None, 64)                8256      \n",
            "                                                                 \n",
            " activation_5 (Activation)   (None, 64)                0         \n",
            "                                                                 \n",
            " dropout_5 (Dropout)         (None, 64)                0         \n",
            "                                                                 \n",
            " dense_5 (Dense)             (None, 22)                1430      \n",
            "                                                                 \n",
            "=================================================================\n",
            "Total params: 35,315,626\n",
            "Trainable params: 35,315,626\n",
            "Non-trainable params: 0\n",
            "_________________________________________________________________\n"
          ]
        }
      ]
    },
    {
      "cell_type": "code",
      "source": [
        "sgd = SGD(learning_rate=0.02)\n",
        "model.compile(loss=\"categorical_crossentropy\",optimizer=sgd,metrics=['accuracy'])\n",
        "history_fine = model.fit(train_padded, train_y,validation_data=(valid_padded, valid_y), epochs=50)"
      ],
      "metadata": {
        "id": "740fwu2SYlSm",
        "colab": {
          "base_uri": "https://localhost:8080/"
        },
        "outputId": "9c3afe3b-9cee-4577-f46f-75eabdd736d0"
      },
      "execution_count": 36,
      "outputs": [
        {
          "output_type": "stream",
          "name": "stdout",
          "text": [
            "Epoch 1/50\n",
            "461/461 [==============================] - 3s 5ms/step - loss: 3.0921 - accuracy: 0.0476 - val_loss: 3.0897 - val_accuracy: 0.0522\n",
            "Epoch 2/50\n",
            "461/461 [==============================] - 2s 4ms/step - loss: 3.0886 - accuracy: 0.0541 - val_loss: 3.0877 - val_accuracy: 0.0797\n",
            "Epoch 3/50\n",
            "461/461 [==============================] - 2s 5ms/step - loss: 3.0826 - accuracy: 0.0647 - val_loss: 3.0825 - val_accuracy: 0.0747\n",
            "Epoch 4/50\n",
            "461/461 [==============================] - 2s 5ms/step - loss: 3.0734 - accuracy: 0.0767 - val_loss: 3.0718 - val_accuracy: 0.1386\n",
            "Epoch 5/50\n",
            "461/461 [==============================] - 2s 5ms/step - loss: 3.0447 - accuracy: 0.1162 - val_loss: 3.0284 - val_accuracy: 0.2321\n",
            "Epoch 6/50\n",
            "461/461 [==============================] - 2s 4ms/step - loss: 2.9066 - accuracy: 0.1516 - val_loss: 2.7968 - val_accuracy: 0.1941\n",
            "Epoch 7/50\n",
            "461/461 [==============================] - 2s 4ms/step - loss: 2.6629 - accuracy: 0.1801 - val_loss: 2.5795 - val_accuracy: 0.3093\n",
            "Epoch 8/50\n",
            "461/461 [==============================] - 3s 6ms/step - loss: 2.4331 - accuracy: 0.2385 - val_loss: 2.3316 - val_accuracy: 0.4140\n",
            "Epoch 9/50\n",
            "461/461 [==============================] - 3s 5ms/step - loss: 2.1322 - accuracy: 0.2902 - val_loss: 2.0621 - val_accuracy: 0.4821\n",
            "Epoch 10/50\n",
            "461/461 [==============================] - 2s 5ms/step - loss: 1.8815 - accuracy: 0.3536 - val_loss: 1.8326 - val_accuracy: 0.5167\n",
            "Epoch 11/50\n",
            "461/461 [==============================] - 2s 5ms/step - loss: 1.6481 - accuracy: 0.4326 - val_loss: 1.5898 - val_accuracy: 0.6381\n",
            "Epoch 12/50\n",
            "461/461 [==============================] - 2s 5ms/step - loss: 1.4620 - accuracy: 0.4910 - val_loss: 1.4205 - val_accuracy: 0.7016\n",
            "Epoch 13/50\n",
            "461/461 [==============================] - 2s 5ms/step - loss: 1.2773 - accuracy: 0.5639 - val_loss: 1.2626 - val_accuracy: 0.7412\n",
            "Epoch 14/50\n",
            "461/461 [==============================] - 2s 5ms/step - loss: 1.0918 - accuracy: 0.6261 - val_loss: 1.0697 - val_accuracy: 0.7621\n",
            "Epoch 15/50\n",
            "461/461 [==============================] - 2s 5ms/step - loss: 0.9209 - accuracy: 0.6972 - val_loss: 0.9442 - val_accuracy: 0.7755\n",
            "Epoch 16/50\n",
            "461/461 [==============================] - 2s 4ms/step - loss: 0.7711 - accuracy: 0.7537 - val_loss: 0.7815 - val_accuracy: 0.8406\n",
            "Epoch 17/50\n",
            "461/461 [==============================] - 2s 4ms/step - loss: 0.6470 - accuracy: 0.8007 - val_loss: 0.7449 - val_accuracy: 0.8364\n",
            "Epoch 18/50\n",
            "461/461 [==============================] - 2s 5ms/step - loss: 0.5524 - accuracy: 0.8302 - val_loss: 0.6082 - val_accuracy: 0.8777\n",
            "Epoch 19/50\n",
            "461/461 [==============================] - 2s 5ms/step - loss: 0.4677 - accuracy: 0.8609 - val_loss: 0.5505 - val_accuracy: 0.8781\n",
            "Epoch 20/50\n",
            "461/461 [==============================] - 2s 5ms/step - loss: 0.4007 - accuracy: 0.8831 - val_loss: 0.4960 - val_accuracy: 0.8894\n",
            "Epoch 21/50\n",
            "461/461 [==============================] - 2s 5ms/step - loss: 0.3404 - accuracy: 0.9036 - val_loss: 0.4559 - val_accuracy: 0.9023\n",
            "Epoch 22/50\n",
            "461/461 [==============================] - 2s 5ms/step - loss: 0.2917 - accuracy: 0.9168 - val_loss: 0.4198 - val_accuracy: 0.8986\n",
            "Epoch 23/50\n",
            "461/461 [==============================] - 2s 5ms/step - loss: 0.2477 - accuracy: 0.9353 - val_loss: 0.4090 - val_accuracy: 0.9003\n",
            "Epoch 24/50\n",
            "461/461 [==============================] - 2s 4ms/step - loss: 0.2204 - accuracy: 0.9386 - val_loss: 0.3987 - val_accuracy: 0.9011\n",
            "Epoch 25/50\n",
            "461/461 [==============================] - 2s 5ms/step - loss: 0.1892 - accuracy: 0.9461 - val_loss: 0.3438 - val_accuracy: 0.9186\n",
            "Epoch 26/50\n",
            "461/461 [==============================] - 3s 7ms/step - loss: 0.1701 - accuracy: 0.9529 - val_loss: 0.3454 - val_accuracy: 0.9232\n",
            "Epoch 27/50\n",
            "461/461 [==============================] - 2s 5ms/step - loss: 0.1479 - accuracy: 0.9615 - val_loss: 0.3194 - val_accuracy: 0.9282\n",
            "Epoch 28/50\n",
            "461/461 [==============================] - 2s 5ms/step - loss: 0.1333 - accuracy: 0.9623 - val_loss: 0.3087 - val_accuracy: 0.9270\n",
            "Epoch 29/50\n",
            "461/461 [==============================] - 2s 5ms/step - loss: 0.1187 - accuracy: 0.9688 - val_loss: 0.3065 - val_accuracy: 0.9261\n",
            "Epoch 30/50\n",
            "461/461 [==============================] - 2s 4ms/step - loss: 0.1139 - accuracy: 0.9682 - val_loss: 0.3045 - val_accuracy: 0.9240\n",
            "Epoch 31/50\n",
            "461/461 [==============================] - 2s 5ms/step - loss: 0.1006 - accuracy: 0.9731 - val_loss: 0.2955 - val_accuracy: 0.9282\n",
            "Epoch 32/50\n",
            "461/461 [==============================] - 2s 5ms/step - loss: 0.0896 - accuracy: 0.9769 - val_loss: 0.3103 - val_accuracy: 0.9203\n",
            "Epoch 33/50\n",
            "461/461 [==============================] - 2s 4ms/step - loss: 0.0846 - accuracy: 0.9792 - val_loss: 0.2775 - val_accuracy: 0.9324\n",
            "Epoch 34/50\n",
            "461/461 [==============================] - 4s 8ms/step - loss: 0.0777 - accuracy: 0.9781 - val_loss: 0.2925 - val_accuracy: 0.9282\n",
            "Epoch 35/50\n",
            "461/461 [==============================] - 2s 5ms/step - loss: 0.0703 - accuracy: 0.9805 - val_loss: 0.2870 - val_accuracy: 0.9286\n",
            "Epoch 36/50\n",
            "461/461 [==============================] - 2s 4ms/step - loss: 0.0662 - accuracy: 0.9831 - val_loss: 0.2838 - val_accuracy: 0.9270\n",
            "Epoch 37/50\n",
            "461/461 [==============================] - 2s 4ms/step - loss: 0.0628 - accuracy: 0.9845 - val_loss: 0.2834 - val_accuracy: 0.9295\n",
            "Epoch 38/50\n",
            "461/461 [==============================] - 2s 4ms/step - loss: 0.0595 - accuracy: 0.9840 - val_loss: 0.2677 - val_accuracy: 0.9324\n",
            "Epoch 39/50\n",
            "461/461 [==============================] - 3s 6ms/step - loss: 0.0553 - accuracy: 0.9852 - val_loss: 0.2787 - val_accuracy: 0.9324\n",
            "Epoch 40/50\n",
            "461/461 [==============================] - 2s 4ms/step - loss: 0.0531 - accuracy: 0.9855 - val_loss: 0.2625 - val_accuracy: 0.9382\n",
            "Epoch 41/50\n",
            "461/461 [==============================] - 2s 5ms/step - loss: 0.0491 - accuracy: 0.9874 - val_loss: 0.2736 - val_accuracy: 0.9349\n",
            "Epoch 42/50\n",
            "461/461 [==============================] - 2s 4ms/step - loss: 0.0473 - accuracy: 0.9876 - val_loss: 0.2712 - val_accuracy: 0.9395\n",
            "Epoch 43/50\n",
            "461/461 [==============================] - 2s 5ms/step - loss: 0.0426 - accuracy: 0.9887 - val_loss: 0.2665 - val_accuracy: 0.9391\n",
            "Epoch 44/50\n",
            "461/461 [==============================] - 2s 5ms/step - loss: 0.0396 - accuracy: 0.9893 - val_loss: 0.2662 - val_accuracy: 0.9374\n",
            "Epoch 45/50\n",
            "461/461 [==============================] - 2s 5ms/step - loss: 0.0420 - accuracy: 0.9884 - val_loss: 0.2614 - val_accuracy: 0.9370\n",
            "Epoch 46/50\n",
            "461/461 [==============================] - 2s 4ms/step - loss: 0.0352 - accuracy: 0.9906 - val_loss: 0.2694 - val_accuracy: 0.9382\n",
            "Epoch 47/50\n",
            "461/461 [==============================] - 2s 4ms/step - loss: 0.0333 - accuracy: 0.9910 - val_loss: 0.2672 - val_accuracy: 0.9412\n",
            "Epoch 48/50\n",
            "461/461 [==============================] - 2s 5ms/step - loss: 0.0352 - accuracy: 0.9906 - val_loss: 0.2745 - val_accuracy: 0.9370\n",
            "Epoch 49/50\n",
            "461/461 [==============================] - 2s 4ms/step - loss: 0.0359 - accuracy: 0.9912 - val_loss: 0.2980 - val_accuracy: 0.9278\n",
            "Epoch 50/50\n",
            "461/461 [==============================] - 2s 5ms/step - loss: 0.0308 - accuracy: 0.9921 - val_loss: 0.2594 - val_accuracy: 0.9420\n"
          ]
        }
      ]
    },
    {
      "cell_type": "code",
      "source": [
        "target_names = pd.Categorical(lang).categories\n",
        "\n",
        "y_prob = model.predict(test_padded)\n",
        "y_pred = np.argmax(y_prob,axis=1)\n",
        "print(classification_report(df_test_y_int,y_pred, target_names=target_names))"
      ],
      "metadata": {
        "colab": {
          "base_uri": "https://localhost:8080/"
        },
        "id": "eAw4M1iBUg99",
        "outputId": "75e6f24b-381e-4097-8b7f-e23003432bd3"
      },
      "execution_count": 37,
      "outputs": [
        {
          "output_type": "stream",
          "name": "stdout",
          "text": [
            "              precision    recall  f1-score   support\n",
            "\n",
            "      Arabic       0.98      0.95      0.97       240\n",
            "     Chinese       0.86      0.90      0.88       221\n",
            "       Dutch       0.96      0.93      0.94       209\n",
            "     English       0.86      0.91      0.88       212\n",
            "    Estonian       0.82      0.95      0.88       222\n",
            "      French       0.93      0.93      0.93       217\n",
            "       Hindi       0.99      0.95      0.97       239\n",
            "  Indonesian       0.95      0.95      0.95       212\n",
            "    Japanese       0.96      0.92      0.94       212\n",
            "      Korean       0.99      0.96      0.97       219\n",
            "       Latin       0.89      0.89      0.89       218\n",
            "     Persian       0.98      0.97      0.97       212\n",
            "   Portugese       0.91      0.96      0.93       211\n",
            "      Pushto       0.98      0.96      0.97       216\n",
            "    Romanian       0.97      0.95      0.96       232\n",
            "     Russian       0.98      0.96      0.97       237\n",
            "     Spanish       0.93      0.92      0.93       216\n",
            "     Swedish       0.99      0.97      0.98       203\n",
            "       Tamil       1.00      0.98      0.99       234\n",
            "        Thai       0.97      0.94      0.96       222\n",
            "     Turkish       0.94      0.95      0.94       220\n",
            "        Urdu       0.97      0.94      0.96       240\n",
            "\n",
            "    accuracy                           0.94      4864\n",
            "   macro avg       0.94      0.94      0.94      4864\n",
            "weighted avg       0.95      0.94      0.94      4864\n",
            "\n"
          ]
        }
      ]
    },
    {
      "cell_type": "code",
      "source": [
        "plt.plot(history_fine.history['loss'])\n",
        "plt.plot(history_fine.history['val_loss'])\n",
        "plt.title('model loss')\n",
        "plt.ylabel('loss')\n",
        "plt.xlabel('epoch')\n",
        "plt.legend(['training set','validation set'], loc='upper left')\n",
        "plt.show()\n",
        "plt.savefig('historyfine_3_gram_CNN.eps', format='eps')"
      ],
      "metadata": {
        "colab": {
          "base_uri": "https://localhost:8080/",
          "height": 313
        },
        "id": "AIILSOTo-SYA",
        "outputId": "d9244014-b60d-46e3-d65d-08a0819e2199"
      },
      "execution_count": 38,
      "outputs": [
        {
          "output_type": "display_data",
          "data": {
            "text/plain": [
              "<Figure size 432x288 with 1 Axes>"
            ],
            "image/png": "[encoded data removed]"
          },
          "metadata": {
            "needs_background": "light"
          }
        },
        {
          "output_type": "display_data",
          "data": {
            "text/plain": [
              "<Figure size 432x288 with 0 Axes>"
            ]
          },
          "metadata": {}
        }
      ]
    },
    {
      "cell_type": "code",
      "source": [
        "disp = ConfusionMatrixDisplay.from_predictions(df_test_y_int, y_pred)\n",
        "fig = disp.ax_.get_figure()  \n",
        "fig.set_figwidth(10) \n",
        "fig.set_figheight(10)\n",
        "plt.show()\n",
        "plt.savefig('confmatrix_3_gram_CNN.eps', format='eps')"
      ],
      "metadata": {
        "colab": {
          "base_uri": "https://localhost:8080/",
          "height": 598
        },
        "id": "G6DNjXp_-UB7",
        "outputId": "66f6b12d-e67c-48aa-dec3-08069620a104"
      },
      "execution_count": 39,
      "outputs": [
        {
          "output_type": "display_data",
          "data": {
            "text/plain": [
              "<Figure size 720x720 with 2 Axes>"
            ],
            "image/png": "[encoded data removed]"
          },
          "metadata": {
            "needs_background": "light"
          }
        },
        {
          "output_type": "display_data",
          "data": {
            "text/plain": [
              "<Figure size 432x288 with 0 Axes>"
            ]
          },
          "metadata": {}
        }
      ]
    }
  ]
}