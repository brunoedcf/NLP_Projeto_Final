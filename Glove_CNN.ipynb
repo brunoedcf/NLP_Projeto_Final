{
  "nbformat": 4,
  "nbformat_minor": 0,
  "metadata": {
    "colab": {
      "provenance": [],
      "authorship_tag": "ABX9TyP7np0wc1UJpjfyzQASAa4X",
      "include_colab_link": true
    },
    "kernelspec": {
      "name": "python3",
      "display_name": "Python 3"
    },
    "language_info": {
      "name": "python"
    }
  },
  "cells": [
    {
      "cell_type": "markdown",
      "metadata": {
        "id": "view-in-github",
        "colab_type": "text"
      },
      "source": [
        "<a href=\"https://colab.research.google.com/github/brunoedcf/NLP_2022_1/blob/main/Glove_CNN.ipynb\" target=\"_parent\"><img src=\"https://colab.research.google.com/assets/colab-badge.svg\" alt=\"Open In Colab\"/></a>"
      ]
    },
    {
      "cell_type": "code",
      "source": [
        "!pip install pythainlp\n",
        "!pip install advertools\n",
        "!pip install -U gensim\n",
        "!pip install glove-python-binary"
      ],
      "metadata": {
        "id": "R4dkEpV4JVJr"
      },
      "execution_count": null,
      "outputs": []
    },
    {
      "cell_type": "markdown",
      "source": [
        "# ***Imports***"
      ],
      "metadata": {
        "id": "_U9XT37WICMK"
      }
    },
    {
      "cell_type": "code",
      "source": [
        "import pandas as pd\n",
        "import numpy as np\n",
        "import re\n",
        "import keras\n",
        "import pythainlp\n",
        "import advertools as adv\n",
        "import matplotlib.pyplot as plt\n",
        "\n",
        "from glove import Corpus, Glove\n",
        "\n",
        "from gensim.models import KeyedVectors\n",
        "from gensim.models import Word2Vec\n",
        "\n",
        "from tensorflow.keras.preprocessing.text import Tokenizer\n",
        "from tensorflow.keras.preprocessing.sequence import pad_sequences\n",
        "from tensorflow.keras.optimizers import SGD\n",
        "\n",
        "from sklearn.model_selection import train_test_split\n",
        "from sklearn.metrics import classification_report\n",
        "from sklearn.metrics import ConfusionMatrixDisplay\n",
        "\n",
        "from keras.utils.np_utils import to_categorical\n",
        "from keras.models import Sequential\n",
        "from keras.layers import Dense, Conv1D, Embedding, GlobalMaxPooling1D, Activation, Dropout\n",
        "\n",
        "import nltk\n",
        "nltk.download('punkt')"
      ],
      "metadata": {
        "id": "DTsVPAsdU4XV"
      },
      "execution_count": null,
      "outputs": []
    },
    {
      "cell_type": "code",
      "execution_count": 3,
      "metadata": {
        "id": "JWIg4Zx_UopL"
      },
      "outputs": [],
      "source": [
        "data_path = 'https://raw.githubusercontent.com/brunoedcf/bert-base-multilingual-cased_Language_Classifier/main/dataset.csv'"
      ]
    },
    {
      "cell_type": "code",
      "source": [
        "df = pd.read_csv(data_path)\n",
        "df"
      ],
      "metadata": {
        "colab": {
          "base_uri": "https://localhost:8080/",
          "height": 423
        },
        "id": "g6fxF2H3UzP1",
        "outputId": "054b658d-df6e-417c-9f15-6d1ed94859fb"
      },
      "execution_count": 4,
      "outputs": [
        {
          "output_type": "execute_result",
          "data": {
            "text/plain": [
              "                                                    Text  language\n",
              "0      klement gottwaldi surnukeha palsameeriti ning ...  Estonian\n",
              "1      sebes joseph pereira thomas  på eng the jesuit...   Swedish\n",
              "2      ถนนเจริญกรุง อักษรโรมัน thanon charoen krung เ...      Thai\n",
              "3      விசாகப்பட்டினம் தமிழ்ச்சங்கத்தை இந்துப் பத்திர...     Tamil\n",
              "4      de spons behoort tot het geslacht haliclona en...     Dutch\n",
              "...                                                  ...       ...\n",
              "21995  hors du terrain les années  et  sont des année...    French\n",
              "21996  ใน พศ  หลักจากที่เสด็จประพาสแหลมมลายู ชวา อินเ...      Thai\n",
              "21997  con motivo de la celebración del septuagésimoq...   Spanish\n",
              "21998  年月，當時還只有歲的她在美國出道，以mai-k名義推出首張英文《baby i like》，由...   Chinese\n",
              "21999   aprilie sonda spațială messenger a nasa și-a ...  Romanian\n",
              "\n",
              "[22000 rows x 2 columns]"
            ],
            "text/html": [
              "\n",
              "  <div id=\"df-857be70c-bc02-4b7d-b68d-adf1ea907cac\">\n",
              "    <div class=\"colab-df-container\">\n",
              "      <div>\n",
              "<style scoped>\n",
              "    .dataframe tbody tr th:only-of-type {\n",
              "        vertical-align: middle;\n",
              "    }\n",
              "\n",
              "    .dataframe tbody tr th {\n",
              "        vertical-align: top;\n",
              "    }\n",
              "\n",
              "    .dataframe thead th {\n",
              "        text-align: right;\n",
              "    }\n",
              "</style>\n",
              "<table border=\"1\" class=\"dataframe\">\n",
              "  <thead>\n",
              "    <tr style=\"text-align: right;\">\n",
              "      <th></th>\n",
              "      <th>Text</th>\n",
              "      <th>language</th>\n",
              "    </tr>\n",
              "  </thead>\n",
              "  <tbody>\n",
              "    <tr>\n",
              "      <th>0</th>\n",
              "      <td>klement gottwaldi surnukeha palsameeriti ning ...</td>\n",
              "      <td>Estonian</td>\n",
              "    </tr>\n",
              "    <tr>\n",
              "      <th>1</th>\n",
              "      <td>sebes joseph pereira thomas  på eng the jesuit...</td>\n",
              "      <td>Swedish</td>\n",
              "    </tr>\n",
              "    <tr>\n",
              "      <th>2</th>\n",
              "      <td>ถนนเจริญกรุง อักษรโรมัน thanon charoen krung เ...</td>\n",
              "      <td>Thai</td>\n",
              "    </tr>\n",
              "    <tr>\n",
              "      <th>3</th>\n",
              "      <td>விசாகப்பட்டினம் தமிழ்ச்சங்கத்தை இந்துப் பத்திர...</td>\n",
              "      <td>Tamil</td>\n",
              "    </tr>\n",
              "    <tr>\n",
              "      <th>4</th>\n",
              "      <td>de spons behoort tot het geslacht haliclona en...</td>\n",
              "      <td>Dutch</td>\n",
              "    </tr>\n",
              "    <tr>\n",
              "      <th>...</th>\n",
              "      <td>...</td>\n",
              "      <td>...</td>\n",
              "    </tr>\n",
              "    <tr>\n",
              "      <th>21995</th>\n",
              "      <td>hors du terrain les années  et  sont des année...</td>\n",
              "      <td>French</td>\n",
              "    </tr>\n",
              "    <tr>\n",
              "      <th>21996</th>\n",
              "      <td>ใน พศ  หลักจากที่เสด็จประพาสแหลมมลายู ชวา อินเ...</td>\n",
              "      <td>Thai</td>\n",
              "    </tr>\n",
              "    <tr>\n",
              "      <th>21997</th>\n",
              "      <td>con motivo de la celebración del septuagésimoq...</td>\n",
              "      <td>Spanish</td>\n",
              "    </tr>\n",
              "    <tr>\n",
              "      <th>21998</th>\n",
              "      <td>年月，當時還只有歲的她在美國出道，以mai-k名義推出首張英文《baby i like》，由...</td>\n",
              "      <td>Chinese</td>\n",
              "    </tr>\n",
              "    <tr>\n",
              "      <th>21999</th>\n",
              "      <td>aprilie sonda spațială messenger a nasa și-a ...</td>\n",
              "      <td>Romanian</td>\n",
              "    </tr>\n",
              "  </tbody>\n",
              "</table>\n",
              "<p>22000 rows × 2 columns</p>\n",
              "</div>\n",
              "      <button class=\"colab-df-convert\" onclick=\"convertToInteractive('df-857be70c-bc02-4b7d-b68d-adf1ea907cac')\"\n",
              "              title=\"Convert this dataframe to an interactive table.\"\n",
              "              style=\"display:none;\">\n",
              "        \n",
              "  <svg xmlns=\"http://www.w3.org/2000/svg\" height=\"24px\"viewBox=\"0 0 24 24\"\n",
              "       width=\"24px\">\n",
              "    <path d=\"M0 0h24v24H0V0z\" fill=\"none\"/>\n",
              "    <path d=\"M18.56 5.44l.94 2.06.94-2.06 2.06-.94-2.06-.94-.94-2.06-.94 2.06-2.06.94zm-11 1L8.5 8.5l.94-2.06 2.06-.94-2.06-.94L8.5 2.5l-.94 2.06-2.06.94zm10 10l.94 2.06.94-2.06 2.06-.94-2.06-.94-.94-2.06-.94 2.06-2.06.94z\"/><path d=\"M17.41 7.96l-1.37-1.37c-.4-.4-.92-.59-1.43-.59-.52 0-1.04.2-1.43.59L10.3 9.45l-7.72 7.72c-.78.78-.78 2.05 0 2.83L4 21.41c.39.39.9.59 1.41.59.51 0 1.02-.2 1.41-.59l7.78-7.78 2.81-2.81c.8-.78.8-2.07 0-2.86zM5.41 20L4 18.59l7.72-7.72 1.47 1.35L5.41 20z\"/>\n",
              "  </svg>\n",
              "      </button>\n",
              "      \n",
              "  <style>\n",
              "    .colab-df-container {\n",
              "      display:flex;\n",
              "      flex-wrap:wrap;\n",
              "      gap: 12px;\n",
              "    }\n",
              "\n",
              "    .colab-df-convert {\n",
              "      background-color: #E8F0FE;\n",
              "      border: none;\n",
              "      border-radius: 50%;\n",
              "      cursor: pointer;\n",
              "      display: none;\n",
              "      fill: #1967D2;\n",
              "      height: 32px;\n",
              "      padding: 0 0 0 0;\n",
              "      width: 32px;\n",
              "    }\n",
              "\n",
              "    .colab-df-convert:hover {\n",
              "      background-color: #E2EBFA;\n",
              "      box-shadow: 0px 1px 2px rgba(60, 64, 67, 0.3), 0px 1px 3px 1px rgba(60, 64, 67, 0.15);\n",
              "      fill: #174EA6;\n",
              "    }\n",
              "\n",
              "    [theme=dark] .colab-df-convert {\n",
              "      background-color: #3B4455;\n",
              "      fill: #D2E3FC;\n",
              "    }\n",
              "\n",
              "    [theme=dark] .colab-df-convert:hover {\n",
              "      background-color: #434B5C;\n",
              "      box-shadow: 0px 1px 3px 1px rgba(0, 0, 0, 0.15);\n",
              "      filter: drop-shadow(0px 1px 2px rgba(0, 0, 0, 0.3));\n",
              "      fill: #FFFFFF;\n",
              "    }\n",
              "  </style>\n",
              "\n",
              "      <script>\n",
              "        const buttonEl =\n",
              "          document.querySelector('#df-857be70c-bc02-4b7d-b68d-adf1ea907cac button.colab-df-convert');\n",
              "        buttonEl.style.display =\n",
              "          google.colab.kernel.accessAllowed ? 'block' : 'none';\n",
              "\n",
              "        async function convertToInteractive(key) {\n",
              "          const element = document.querySelector('#df-857be70c-bc02-4b7d-b68d-adf1ea907cac');\n",
              "          const dataTable =\n",
              "            await google.colab.kernel.invokeFunction('convertToInteractive',\n",
              "                                                     [key], {});\n",
              "          if (!dataTable) return;\n",
              "\n",
              "          const docLinkHtml = 'Like what you see? Visit the ' +\n",
              "            '<a target=\"_blank\" href=https://colab.research.google.com/notebooks/data_table.ipynb>data table notebook</a>'\n",
              "            + ' to learn more about interactive tables.';\n",
              "          element.innerHTML = '';\n",
              "          dataTable['output_type'] = 'display_data';\n",
              "          await google.colab.output.renderOutput(dataTable, element);\n",
              "          const docLink = document.createElement('div');\n",
              "          docLink.innerHTML = docLinkHtml;\n",
              "          element.appendChild(docLink);\n",
              "        }\n",
              "      </script>\n",
              "    </div>\n",
              "  </div>\n",
              "  "
            ]
          },
          "metadata": {},
          "execution_count": 4
        }
      ]
    },
    {
      "cell_type": "code",
      "source": [
        "text = df['Text'].tolist()\n",
        "lang = df['language'].tolist()"
      ],
      "metadata": {
        "id": "2HAuNSlEE5lH"
      },
      "execution_count": 5,
      "outputs": []
    },
    {
      "cell_type": "markdown",
      "source": [
        "# ***Pre-Processing***"
      ],
      "metadata": {
        "id": "m_AkJjOZI1gJ"
      }
    },
    {
      "cell_type": "code",
      "source": [
        "def pre_process(text):\n",
        "  treated = re.sub(r'[\\/\\。\\・\\、\\，\\「\\」\\、\\-\\（\\）\\『\\』\\；\\：\\：\\－\\”\\·\\–\\~\\—\\«\\—]', ' ', text)\n",
        "  treated = re.sub(r'[\\[\\]\\,\\.\\\"\\'\\(\\)\\%\\:\\;\\<\\>\\?\\!\\+\\*\\&\\$\\#\\@\\《\\》\\—]', ' ', treated)\n",
        "  treated = re.sub(r'\\\\n', ' ', treated)\n",
        "  treated = re.sub(r'[0-9]', ' ', treated)\n",
        "  treated = re.sub(r'\\\\u200c', ' ', treated)\n",
        "  treated = re.sub(r'\\\\u200b', ' ', treated)\n",
        "  treated = re.sub(r'\\s+', ' ', treated)\n",
        "  treated = treated.lower()\n",
        "\n",
        "  return treated"
      ],
      "metadata": {
        "id": "7bljZFTeU0iI"
      },
      "execution_count": 6,
      "outputs": []
    },
    {
      "cell_type": "code",
      "source": [
        "text = [pre_process(t) for t in text]"
      ],
      "metadata": {
        "id": "r9rqIWpIFEa2"
      },
      "execution_count": 7,
      "outputs": []
    },
    {
      "cell_type": "code",
      "source": [
        "for i, row in enumerate(text):\n",
        "\n",
        "  if lang[i] == 'Thai':\n",
        "    for stopword in pythainlp.corpus.common.thai_stopwords():\n",
        "      if stopword in row:\n",
        "        text[i] = pre_process(re.sub(stopword, ' ', row).strip())\n",
        "\n",
        "  elif lang[i] == 'Japanese':\n",
        "    for stopword in adv.stopwords['japanese']:\n",
        "      if stopword in row:\n",
        "        text[i] = pre_process(re.sub(stopword, ' ', row).strip())\n",
        "\n",
        "  elif lang[i] == \"Chinese\":\n",
        "    for stopword in adv.stopwords['chinese']:\n",
        "      if stopword in row:\n",
        "        text[i] = pre_process(re.sub(stopword, ' ', row).strip())"
      ],
      "metadata": {
        "id": "EW6_eVBTNKWh"
      },
      "execution_count": 8,
      "outputs": []
    },
    {
      "cell_type": "markdown",
      "source": [
        "# ***Split in Training, Test and Validation***"
      ],
      "metadata": {
        "id": "6Bin1thMJEkw"
      }
    },
    {
      "cell_type": "code",
      "source": [
        "train_x, test_x, train_y, test_y = train_test_split(text, lang, test_size=0.33, random_state=42)\n",
        "test_x, valid_x, test_y, valid_y = train_test_split(test_x, test_y, test_size=0.33, random_state=42)"
      ],
      "metadata": {
        "id": "WnkL6VvYXSO6"
      },
      "execution_count": 9,
      "outputs": []
    },
    {
      "cell_type": "markdown",
      "source": [
        "# ***Labels to Categorical***"
      ],
      "metadata": {
        "id": "pcNi95pxJJUP"
      }
    },
    {
      "cell_type": "code",
      "source": [
        "df_train_y = pd.Categorical(train_y)\n",
        "df_train_y_int = df_train_y.codes\n",
        "train_y = to_categorical(df_train_y_int)\n",
        "\n",
        "df_test_y = pd.Categorical(test_y)\n",
        "df_test_y_int = df_test_y.codes\n",
        "test_y = to_categorical(df_test_y_int)\n",
        "\n",
        "df_valid_y = pd.Categorical(valid_y)\n",
        "df_valid_y_int = df_valid_y.codes\n",
        "valid_y = to_categorical(df_valid_y_int)"
      ],
      "metadata": {
        "id": "ldU57Dr7WU6d"
      },
      "execution_count": 10,
      "outputs": []
    },
    {
      "cell_type": "markdown",
      "source": [
        "# ***Count Vocabulary***"
      ],
      "metadata": {
        "id": "hgmK9alhJyjc"
      }
    },
    {
      "cell_type": "code",
      "source": [
        "vocab = {}\n",
        "for text in train_x:\n",
        "  for word in text.split():\n",
        "    if word not in vocab:\n",
        "      vocab[word] = 1"
      ],
      "metadata": {
        "id": "77KwmzjkZbxa"
      },
      "execution_count": 11,
      "outputs": []
    },
    {
      "cell_type": "code",
      "source": [
        "vocab_size = len(vocab) + 1\n",
        "vocab_size"
      ],
      "metadata": {
        "colab": {
          "base_uri": "https://localhost:8080/"
        },
        "id": "hScf20svZ4KJ",
        "outputId": "7254246e-6939-4927-ae4f-1fea74b14d94"
      },
      "execution_count": 12,
      "outputs": [
        {
          "output_type": "execute_result",
          "data": {
            "text/plain": [
              "229097"
            ]
          },
          "metadata": {},
          "execution_count": 12
        }
      ]
    },
    {
      "cell_type": "markdown",
      "source": [
        "# ***Training GloVe Embedding***"
      ],
      "metadata": {
        "id": "cTEg7XaMZvN9"
      }
    },
    {
      "cell_type": "code",
      "source": [
        "embedding_dim = 100"
      ],
      "metadata": {
        "id": "ow-2BjIdvuDC"
      },
      "execution_count": 13,
      "outputs": []
    },
    {
      "cell_type": "code",
      "source": [
        "corpus = Corpus() \n",
        "sentences = [sentence.split() for sentence in train_x]\n",
        "corpus.fit(sentences, window=6)"
      ],
      "metadata": {
        "id": "_KrWjwOwqKgE"
      },
      "execution_count": 14,
      "outputs": []
    },
    {
      "cell_type": "code",
      "source": [
        "glove = Glove(no_components=embedding_dim, learning_rate=0.05)\n",
        "glove.fit(corpus.matrix, epochs=30, no_threads=2)\n",
        "glove.add_dictionary(corpus.dictionary)"
      ],
      "metadata": {
        "id": "S2vPmCGErSmg"
      },
      "execution_count": 15,
      "outputs": []
    },
    {
      "cell_type": "code",
      "source": [
        "embedding_glove = np.zeros((vocab_size, embedding_dim))\n",
        "for i, word in enumerate(glove.dictionary):\n",
        "  embedding_glove[i+1] = glove.word_vectors[i]"
      ],
      "metadata": {
        "id": "0Jpqfmapo9kO"
      },
      "execution_count": 16,
      "outputs": []
    },
    {
      "cell_type": "markdown",
      "source": [
        "# ***Sequences and Padding***"
      ],
      "metadata": {
        "id": "hrr0u-qtIMIs"
      }
    },
    {
      "cell_type": "code",
      "source": [
        "def texts_to_sequences(train_x):\n",
        "  encoded_glove = []\n",
        "  for sentence in train_x:\n",
        "    xs = []\n",
        "    for word in sentence.split():\n",
        "      if glove.dictionary.get(word) is not None:\n",
        "        xs.append(glove.dictionary[word]+1)\n",
        "      else:\n",
        "        xs.append(0)\n",
        "    encoded_glove.append(xs)\n",
        "  return encoded_glove"
      ],
      "metadata": {
        "id": "M_2prHjoxoLk"
      },
      "execution_count": 17,
      "outputs": []
    },
    {
      "cell_type": "code",
      "source": [
        "max_len = 64\n",
        "encoded_glove = texts_to_sequences(train_x)\n",
        "train_x_padded = pad_sequences(encoded_glove, maxlen=max_len, padding='post', truncating='post')\n",
        "\n",
        "encoded_glove = texts_to_sequences(valid_x)\n",
        "valid_x_padded = pad_sequences(encoded_glove, maxlen=max_len, padding='post', truncating='post')\n",
        "\n",
        "encoded_glove = texts_to_sequences(test_x)\n",
        "test_x_padded = pad_sequences(encoded_glove, maxlen=max_len, padding='post', truncating='post')"
      ],
      "metadata": {
        "id": "3BaW2IDKKa5k"
      },
      "execution_count": 18,
      "outputs": []
    },
    {
      "cell_type": "markdown",
      "source": [
        "# ***Criando a Camada de Embedding***"
      ],
      "metadata": {
        "id": "3wPvgGvLImUw"
      }
    },
    {
      "cell_type": "code",
      "source": [
        "embedding_layer = Embedding(input_dim = vocab_size,\n",
        "                            output_dim = embedding_dim,\n",
        "                            weights = [embedding_glove],\n",
        "                            input_length=64,\n",
        "                            trainable=False)"
      ],
      "metadata": {
        "id": "8tjoCOpZA6UJ"
      },
      "execution_count": 19,
      "outputs": []
    },
    {
      "cell_type": "markdown",
      "source": [
        "# ***Modelo***"
      ],
      "metadata": {
        "id": "80I4iUONIp8H"
      }
    },
    {
      "cell_type": "code",
      "source": [
        "model = Sequential()\n",
        "model.add(embedding_layer)\n",
        "model.add(Conv1D(filters=128, kernel_size=6, strides=1))\n",
        "model.add(Activation('relu'))\n",
        "model.add(Dropout(0.5))\n",
        "model.add(GlobalMaxPooling1D())\n",
        "model.add(Dense(128))\n",
        "model.add(Activation('relu'))\n",
        "model.add(Dropout(0.3))\n",
        "model.add(Dense(64))\n",
        "model.add(Activation('relu'))\n",
        "model.add(Dropout(0.3))\n",
        "model.add(Dense(22, activation='softmax'))\n",
        "model.summary()"
      ],
      "metadata": {
        "id": "Tg0D6lcXYkaL",
        "colab": {
          "base_uri": "https://localhost:8080/"
        },
        "outputId": "d5f6afc2-dbd9-4565-def7-7d3426d894b0"
      },
      "execution_count": 20,
      "outputs": [
        {
          "output_type": "stream",
          "name": "stdout",
          "text": [
            "Model: \"sequential\"\n",
            "_________________________________________________________________\n",
            " Layer (type)                Output Shape              Param #   \n",
            "=================================================================\n",
            " embedding (Embedding)       (None, 64, 100)           22909700  \n",
            "                                                                 \n",
            " conv1d (Conv1D)             (None, 59, 128)           76928     \n",
            "                                                                 \n",
            " activation (Activation)     (None, 59, 128)           0         \n",
            "                                                                 \n",
            " dropout (Dropout)           (None, 59, 128)           0         \n",
            "                                                                 \n",
            " global_max_pooling1d (Globa  (None, 128)              0         \n",
            " lMaxPooling1D)                                                  \n",
            "                                                                 \n",
            " dense (Dense)               (None, 128)               16512     \n",
            "                                                                 \n",
            " activation_1 (Activation)   (None, 128)               0         \n",
            "                                                                 \n",
            " dropout_1 (Dropout)         (None, 128)               0         \n",
            "                                                                 \n",
            " dense_1 (Dense)             (None, 64)                8256      \n",
            "                                                                 \n",
            " activation_2 (Activation)   (None, 64)                0         \n",
            "                                                                 \n",
            " dropout_2 (Dropout)         (None, 64)                0         \n",
            "                                                                 \n",
            " dense_2 (Dense)             (None, 22)                1430      \n",
            "                                                                 \n",
            "=================================================================\n",
            "Total params: 23,012,826\n",
            "Trainable params: 103,126\n",
            "Non-trainable params: 22,909,700\n",
            "_________________________________________________________________\n"
          ]
        }
      ]
    },
    {
      "cell_type": "code",
      "source": [
        "sgd = SGD(learning_rate=0.02)\n",
        "model.compile(loss=\"categorical_crossentropy\",optimizer=sgd,metrics=['accuracy'])\n",
        "history_fine = model.fit(train_x_padded, train_y,validation_data=(valid_x_padded, valid_y), epochs=50)"
      ],
      "metadata": {
        "id": "740fwu2SYlSm",
        "colab": {
          "base_uri": "https://localhost:8080/"
        },
        "outputId": "fff797a1-a433-4a2f-df77-843b7a33faad"
      },
      "execution_count": 21,
      "outputs": [
        {
          "output_type": "stream",
          "name": "stdout",
          "text": [
            "Epoch 1/50\n",
            "461/461 [==============================] - 13s 26ms/step - loss: 1.9890 - accuracy: 0.4596 - val_loss: 1.2993 - val_accuracy: 0.7926\n",
            "Epoch 2/50\n",
            "461/461 [==============================] - 12s 26ms/step - loss: 0.9116 - accuracy: 0.7310 - val_loss: 0.7852 - val_accuracy: 0.8523\n",
            "Epoch 3/50\n",
            "461/461 [==============================] - 11s 24ms/step - loss: 0.6309 - accuracy: 0.8048 - val_loss: 0.5712 - val_accuracy: 0.8831\n",
            "Epoch 4/50\n",
            "461/461 [==============================] - 12s 25ms/step - loss: 0.5191 - accuracy: 0.8369 - val_loss: 0.4811 - val_accuracy: 0.8811\n",
            "Epoch 5/50\n",
            "461/461 [==============================] - 11s 24ms/step - loss: 0.4562 - accuracy: 0.8525 - val_loss: 0.4356 - val_accuracy: 0.8869\n",
            "Epoch 6/50\n",
            "461/461 [==============================] - 11s 24ms/step - loss: 0.4220 - accuracy: 0.8632 - val_loss: 0.4067 - val_accuracy: 0.8856\n",
            "Epoch 7/50\n",
            "461/461 [==============================] - 12s 27ms/step - loss: 0.4040 - accuracy: 0.8710 - val_loss: 0.3877 - val_accuracy: 0.8932\n",
            "Epoch 8/50\n",
            "461/461 [==============================] - 12s 26ms/step - loss: 0.3843 - accuracy: 0.8750 - val_loss: 0.3794 - val_accuracy: 0.8898\n",
            "Epoch 9/50\n",
            "461/461 [==============================] - 12s 26ms/step - loss: 0.3676 - accuracy: 0.8788 - val_loss: 0.3621 - val_accuracy: 0.8919\n",
            "Epoch 10/50\n",
            "461/461 [==============================] - 12s 26ms/step - loss: 0.3596 - accuracy: 0.8830 - val_loss: 0.3488 - val_accuracy: 0.9007\n",
            "Epoch 11/50\n",
            "461/461 [==============================] - 12s 26ms/step - loss: 0.3520 - accuracy: 0.8828 - val_loss: 0.3431 - val_accuracy: 0.9011\n",
            "Epoch 12/50\n",
            "461/461 [==============================] - 12s 26ms/step - loss: 0.3424 - accuracy: 0.8858 - val_loss: 0.3429 - val_accuracy: 0.9011\n",
            "Epoch 13/50\n",
            "461/461 [==============================] - 12s 26ms/step - loss: 0.3274 - accuracy: 0.8870 - val_loss: 0.3351 - val_accuracy: 0.8952\n",
            "Epoch 14/50\n",
            "461/461 [==============================] - 12s 26ms/step - loss: 0.3266 - accuracy: 0.8918 - val_loss: 0.3320 - val_accuracy: 0.9036\n",
            "Epoch 15/50\n",
            "461/461 [==============================] - 12s 26ms/step - loss: 0.3237 - accuracy: 0.8885 - val_loss: 0.3183 - val_accuracy: 0.8940\n",
            "Epoch 16/50\n",
            "461/461 [==============================] - 12s 26ms/step - loss: 0.3176 - accuracy: 0.8903 - val_loss: 0.3206 - val_accuracy: 0.8965\n",
            "Epoch 17/50\n",
            "461/461 [==============================] - 12s 26ms/step - loss: 0.3126 - accuracy: 0.8930 - val_loss: 0.3181 - val_accuracy: 0.8957\n",
            "Epoch 18/50\n",
            "461/461 [==============================] - 12s 26ms/step - loss: 0.3057 - accuracy: 0.8947 - val_loss: 0.3081 - val_accuracy: 0.8994\n",
            "Epoch 19/50\n",
            "461/461 [==============================] - 12s 25ms/step - loss: 0.3037 - accuracy: 0.8938 - val_loss: 0.2996 - val_accuracy: 0.9019\n",
            "Epoch 20/50\n",
            "461/461 [==============================] - 12s 26ms/step - loss: 0.2974 - accuracy: 0.8955 - val_loss: 0.3041 - val_accuracy: 0.8986\n",
            "Epoch 21/50\n",
            "461/461 [==============================] - 12s 26ms/step - loss: 0.2910 - accuracy: 0.8987 - val_loss: 0.3086 - val_accuracy: 0.9086\n",
            "Epoch 22/50\n",
            "461/461 [==============================] - 12s 26ms/step - loss: 0.2906 - accuracy: 0.8950 - val_loss: 0.3038 - val_accuracy: 0.9094\n",
            "Epoch 23/50\n",
            "461/461 [==============================] - 12s 26ms/step - loss: 0.2896 - accuracy: 0.9004 - val_loss: 0.2955 - val_accuracy: 0.9040\n",
            "Epoch 24/50\n",
            "461/461 [==============================] - 12s 26ms/step - loss: 0.2844 - accuracy: 0.8988 - val_loss: 0.2915 - val_accuracy: 0.9023\n",
            "Epoch 25/50\n",
            "461/461 [==============================] - 12s 26ms/step - loss: 0.2836 - accuracy: 0.9021 - val_loss: 0.2914 - val_accuracy: 0.9007\n",
            "Epoch 26/50\n",
            "461/461 [==============================] - 12s 26ms/step - loss: 0.2797 - accuracy: 0.9007 - val_loss: 0.2868 - val_accuracy: 0.9119\n",
            "Epoch 27/50\n",
            "461/461 [==============================] - 12s 26ms/step - loss: 0.2815 - accuracy: 0.8988 - val_loss: 0.2927 - val_accuracy: 0.8982\n",
            "Epoch 28/50\n",
            "461/461 [==============================] - 12s 27ms/step - loss: 0.2737 - accuracy: 0.9069 - val_loss: 0.2867 - val_accuracy: 0.9019\n",
            "Epoch 29/50\n",
            "461/461 [==============================] - 12s 26ms/step - loss: 0.2703 - accuracy: 0.9039 - val_loss: 0.2901 - val_accuracy: 0.9040\n",
            "Epoch 30/50\n",
            "461/461 [==============================] - 12s 26ms/step - loss: 0.2678 - accuracy: 0.9031 - val_loss: 0.2824 - val_accuracy: 0.9103\n",
            "Epoch 31/50\n",
            "461/461 [==============================] - 12s 26ms/step - loss: 0.2674 - accuracy: 0.9033 - val_loss: 0.2844 - val_accuracy: 0.9028\n",
            "Epoch 32/50\n",
            "461/461 [==============================] - 12s 26ms/step - loss: 0.2666 - accuracy: 0.9044 - val_loss: 0.2810 - val_accuracy: 0.9115\n",
            "Epoch 33/50\n",
            "461/461 [==============================] - 12s 27ms/step - loss: 0.2647 - accuracy: 0.9050 - val_loss: 0.2791 - val_accuracy: 0.9094\n",
            "Epoch 34/50\n",
            "461/461 [==============================] - 12s 26ms/step - loss: 0.2640 - accuracy: 0.9062 - val_loss: 0.2781 - val_accuracy: 0.9023\n",
            "Epoch 35/50\n",
            "461/461 [==============================] - 12s 26ms/step - loss: 0.2608 - accuracy: 0.9052 - val_loss: 0.2774 - val_accuracy: 0.9036\n",
            "Epoch 36/50\n",
            "461/461 [==============================] - 12s 26ms/step - loss: 0.2630 - accuracy: 0.9058 - val_loss: 0.2814 - val_accuracy: 0.9157\n",
            "Epoch 37/50\n",
            "461/461 [==============================] - 12s 26ms/step - loss: 0.2611 - accuracy: 0.9070 - val_loss: 0.2772 - val_accuracy: 0.9057\n",
            "Epoch 38/50\n",
            "461/461 [==============================] - 12s 26ms/step - loss: 0.2599 - accuracy: 0.9075 - val_loss: 0.2753 - val_accuracy: 0.9161\n",
            "Epoch 39/50\n",
            "461/461 [==============================] - 12s 26ms/step - loss: 0.2544 - accuracy: 0.9077 - val_loss: 0.2755 - val_accuracy: 0.9032\n",
            "Epoch 40/50\n",
            "461/461 [==============================] - 12s 26ms/step - loss: 0.2533 - accuracy: 0.9052 - val_loss: 0.2656 - val_accuracy: 0.9136\n",
            "Epoch 41/50\n",
            "461/461 [==============================] - 12s 26ms/step - loss: 0.2509 - accuracy: 0.9087 - val_loss: 0.2757 - val_accuracy: 0.9111\n",
            "Epoch 42/50\n",
            "461/461 [==============================] - 12s 26ms/step - loss: 0.2521 - accuracy: 0.9085 - val_loss: 0.2754 - val_accuracy: 0.9124\n",
            "Epoch 43/50\n",
            "461/461 [==============================] - 12s 26ms/step - loss: 0.2479 - accuracy: 0.9090 - val_loss: 0.2681 - val_accuracy: 0.9124\n",
            "Epoch 44/50\n",
            "461/461 [==============================] - 12s 26ms/step - loss: 0.2487 - accuracy: 0.9095 - val_loss: 0.2672 - val_accuracy: 0.9069\n",
            "Epoch 45/50\n",
            "461/461 [==============================] - 12s 26ms/step - loss: 0.2449 - accuracy: 0.9098 - val_loss: 0.2665 - val_accuracy: 0.9094\n",
            "Epoch 46/50\n",
            "461/461 [==============================] - 12s 26ms/step - loss: 0.2472 - accuracy: 0.9088 - val_loss: 0.2703 - val_accuracy: 0.9044\n",
            "Epoch 47/50\n",
            "461/461 [==============================] - 12s 26ms/step - loss: 0.2474 - accuracy: 0.9098 - val_loss: 0.2640 - val_accuracy: 0.9061\n",
            "Epoch 48/50\n",
            "461/461 [==============================] - 12s 27ms/step - loss: 0.2360 - accuracy: 0.9132 - val_loss: 0.2685 - val_accuracy: 0.9073\n",
            "Epoch 49/50\n",
            "461/461 [==============================] - 12s 26ms/step - loss: 0.2408 - accuracy: 0.9106 - val_loss: 0.2662 - val_accuracy: 0.9053\n",
            "Epoch 50/50\n",
            "461/461 [==============================] - 12s 27ms/step - loss: 0.2465 - accuracy: 0.9110 - val_loss: 0.2666 - val_accuracy: 0.9032\n"
          ]
        }
      ]
    },
    {
      "cell_type": "code",
      "source": [
        "target_names = pd.Categorical(lang).categories\n",
        "\n",
        "y_prob = model.predict(test_x_padded)\n",
        "y_pred = np.argmax(y_prob,axis=1)\n",
        "print(classification_report(df_test_y_int,y_pred, target_names=target_names))"
      ],
      "metadata": {
        "colab": {
          "base_uri": "https://localhost:8080/"
        },
        "id": "eAw4M1iBUg99",
        "outputId": "0a0775a4-0ce2-427a-ce9b-79ea3f7c1701"
      },
      "execution_count": 22,
      "outputs": [
        {
          "output_type": "stream",
          "name": "stdout",
          "text": [
            "              precision    recall  f1-score   support\n",
            "\n",
            "      Arabic       1.00      1.00      1.00       240\n",
            "     Chinese       0.38      0.95      0.54       221\n",
            "       Dutch       0.99      0.99      0.99       209\n",
            "     English       0.84      0.98      0.90       212\n",
            "    Estonian       0.96      0.95      0.96       222\n",
            "      French       0.97      0.98      0.97       217\n",
            "       Hindi       1.00      0.97      0.99       239\n",
            "  Indonesian       0.99      0.98      0.98       212\n",
            "    Japanese       0.62      0.07      0.13       212\n",
            "      Korean       1.00      0.95      0.97       219\n",
            "       Latin       0.93      0.94      0.93       218\n",
            "     Persian       0.99      0.99      0.99       212\n",
            "   Portugese       0.98      0.94      0.96       211\n",
            "      Pushto       1.00      0.97      0.98       216\n",
            "    Romanian       0.99      0.98      0.98       232\n",
            "     Russian       0.99      0.98      0.99       237\n",
            "     Spanish       0.98      0.96      0.97       216\n",
            "     Swedish       1.00      1.00      1.00       203\n",
            "       Tamil       0.99      0.83      0.90       234\n",
            "        Thai       0.98      0.56      0.72       222\n",
            "     Turkish       0.99      0.99      0.99       220\n",
            "        Urdu       1.00      0.97      0.99       240\n",
            "\n",
            "    accuracy                           0.91      4864\n",
            "   macro avg       0.93      0.91      0.90      4864\n",
            "weighted avg       0.94      0.91      0.90      4864\n",
            "\n"
          ]
        }
      ]
    },
    {
      "cell_type": "code",
      "source": [
        "plt.plot(history_fine.history['loss'])\n",
        "plt.plot(history_fine.history['val_loss'])\n",
        "plt.title('model loss')\n",
        "plt.ylabel('loss')\n",
        "plt.xlabel('epoch')\n",
        "plt.legend(['training set','validation set'], loc='upper left')\n",
        "plt.show()\n",
        "plt.savefig('historyfine_GloVe_CNN.eps', format='eps')"
      ],
      "metadata": {
        "colab": {
          "base_uri": "https://localhost:8080/",
          "height": 313
        },
        "id": "k0YlGDD1Hgcz",
        "outputId": "254b46ba-24e0-4a0d-bf29-f67e424ef381"
      },
      "execution_count": 23,
      "outputs": [
        {
          "output_type": "display_data",
          "data": {
            "text/plain": [
              "<Figure size 432x288 with 1 Axes>"
            ],
            "image/png": "[encoded data removed]"
          },
          "metadata": {
            "needs_background": "light"
          }
        },
        {
          "output_type": "display_data",
          "data": {
            "text/plain": [
              "<Figure size 432x288 with 0 Axes>"
            ]
          },
          "metadata": {}
        }
      ]
    },
    {
      "cell_type": "code",
      "source": [
        "disp = ConfusionMatrixDisplay.from_predictions(df_test_y_int, y_pred)\n",
        "fig = disp.ax_.get_figure()  \n",
        "fig.set_figwidth(10) \n",
        "fig.set_figheight(10)\n",
        "plt.show()\n",
        "plt.savefig('confmatrix_GloVe_CNN.eps', format='eps')"
      ],
      "metadata": {
        "colab": {
          "base_uri": "https://localhost:8080/",
          "height": 598
        },
        "id": "zn3W_6yTHkaL",
        "outputId": "055ec662-30ff-4614-9749-10f2e523e7a7"
      },
      "execution_count": 24,
      "outputs": [
        {
          "output_type": "display_data",
          "data": {
            "text/plain": [
              "<Figure size 720x720 with 2 Axes>"
            ],
            "image/png": "[encoded data removed]"
          },
          "metadata": {
            "needs_background": "light"
          }
        },
        {
          "output_type": "display_data",
          "data": {
            "text/plain": [
              "<Figure size 432x288 with 0 Axes>"
            ]
          },
          "metadata": {}
        }
      ]
    }
  ]
}